{
  "cells": [
    {
      "cell_type": "markdown",
      "metadata": {
        "id": "view-in-github",
        "colab_type": "text"
      },
      "source": [
        "<a href=\"https://colab.research.google.com/github/boss-subham/unbiased_nature.github.io/blob/main/terai_timelapse.ipynb\" target=\"_parent\"><img src=\"https://colab.research.google.com/assets/colab-badge.svg\" alt=\"Open In Colab\"/></a>"
      ]
    },
    {
      "cell_type": "markdown",
      "metadata": {
        "id": "fFZ5bro8HklF"
      },
      "source": [
        "# Creating Timelapse Animations\n",
        "\n",
        "```{contents}\n",
        ":local:\n",
        ":depth: 2\n",
        "```\n",
        "\n",
        "## Introduction"
      ],
      "id": "fFZ5bro8HklF"
    },
    {
      "cell_type": "markdown",
      "metadata": {
        "id": "HWYK2Jv3HklI"
      },
      "source": [
        "## Technical requirements\n",
        "\n",
        "```bash\n",
        "conda install -n base mamba -c conda-forge\n",
        "mamba create -n gee -c conda-forge geemap pygis\n",
        "```\n",
        "\n",
        "```bash\n",
        "conda activate gee\n",
        "jupyter lab\n",
        "```\n",
        "\n",
        "[![Open in Colab](https://colab.research.google.com/assets/colab-badge.svg)](https://colab.research.google.com/github/giswqs/geebook/blob/master/chapters/09_timelapse.ipynb)"
      ],
      "id": "HWYK2Jv3HklI"
    },
    {
      "cell_type": "code",
      "execution_count": 3,
      "metadata": {
        "id": "lzdo-DOnHklJ",
        "outputId": "6b3f9cab-be7d-4cd2-864b-cfed74f24bc1",
        "colab": {
          "base_uri": "https://localhost:8080/"
        }
      },
      "outputs": [
        {
          "output_type": "stream",
          "name": "stdout",
          "text": [
            "Looking in indexes: https://pypi.org/simple, https://us-python.pkg.dev/colab-wheels/public/simple/\n",
            "Collecting pygis\n",
            "  Downloading pygis-0.5.0-py2.py3-none-any.whl (3.5 kB)\n",
            "Collecting geemap>=0.18.1\n",
            "  Downloading geemap-0.20.4-py2.py3-none-any.whl (2.1 MB)\n",
            "\u001b[2K     \u001b[90m━━━━━━━━━━━━━━━━━━━━━━━━━━━━━━━━━━━━━━━━\u001b[0m \u001b[32m2.1/2.1 MB\u001b[0m \u001b[31m32.5 MB/s\u001b[0m eta \u001b[36m0:00:00\u001b[0m\n",
            "\u001b[?25hCollecting osmnx\n",
            "  Downloading osmnx-1.3.0-py3-none-any.whl (93 kB)\n",
            "\u001b[2K     \u001b[90m━━━━━━━━━━━━━━━━━━━━━━━━━━━━━━━━━━━━━━━━\u001b[0m \u001b[32m93.1/93.1 KB\u001b[0m \u001b[31m11.3 MB/s\u001b[0m eta \u001b[36m0:00:00\u001b[0m\n",
            "\u001b[?25hCollecting ipynb-py-convert\n",
            "  Downloading ipynb-py-convert-0.4.6.tar.gz (3.9 kB)\n",
            "  Preparing metadata (setup.py) ... \u001b[?25l\u001b[?25hdone\n",
            "Collecting mapclassify>=2.4.0\n",
            "  Downloading mapclassify-2.5.0-py3-none-any.whl (39 kB)\n",
            "Requirement already satisfied: palettable in /usr/local/lib/python3.9/dist-packages (from pygis) (3.3.0)\n",
            "Collecting localtileserver>=0.6.1\n",
            "  Downloading localtileserver-0.6.4-py3-none-any.whl (19.4 MB)\n",
            "\u001b[2K     \u001b[90m━━━━━━━━━━━━━━━━━━━━━━━━━━━━━━━━━━━━━━━━\u001b[0m \u001b[32m19.4/19.4 MB\u001b[0m \u001b[31m78.4 MB/s\u001b[0m eta \u001b[36m0:00:00\u001b[0m\n",
            "\u001b[?25hCollecting mss\n",
            "  Downloading mss-7.0.1-py3-none-any.whl (76 kB)\n",
            "\u001b[2K     \u001b[90m━━━━━━━━━━━━━━━━━━━━━━━━━━━━━━━━━━━━━━━━\u001b[0m \u001b[32m76.8/76.8 KB\u001b[0m \u001b[31m9.9 MB/s\u001b[0m eta \u001b[36m0:00:00\u001b[0m\n",
            "\u001b[?25hCollecting leafmap>=0.14.0\n",
            "  Downloading leafmap-0.18.8-py2.py3-none-any.whl (1.8 MB)\n",
            "\u001b[2K     \u001b[90m━━━━━━━━━━━━━━━━━━━━━━━━━━━━━━━━━━━━━━━━\u001b[0m \u001b[32m1.8/1.8 MB\u001b[0m \u001b[31m85.8 MB/s\u001b[0m eta \u001b[36m0:00:00\u001b[0m\n",
            "\u001b[?25hCollecting geopandas\n",
            "  Downloading geopandas-0.12.2-py3-none-any.whl (1.1 MB)\n",
            "\u001b[2K     \u001b[90m━━━━━━━━━━━━━━━━━━━━━━━━━━━━━━━━━━━━━━━━\u001b[0m \u001b[32m1.1/1.1 MB\u001b[0m \u001b[31m68.0 MB/s\u001b[0m eta \u001b[36m0:00:00\u001b[0m\n",
            "\u001b[?25hRequirement already satisfied: plotly in /usr/local/lib/python3.9/dist-packages (from pygis) (5.13.1)\n",
            "Collecting owslib\n",
            "  Downloading OWSLib-0.28.1-py2.py3-none-any.whl (219 kB)\n",
            "\u001b[2K     \u001b[90m━━━━━━━━━━━━━━━━━━━━━━━━━━━━━━━━━━━━━━\u001b[0m \u001b[32m219.6/219.6 KB\u001b[0m \u001b[31m27.0 MB/s\u001b[0m eta \u001b[36m0:00:00\u001b[0m\n",
            "\u001b[?25hCollecting retry\n",
            "  Downloading retry-0.9.2-py2.py3-none-any.whl (8.0 kB)\n",
            "Collecting rio-cogeo\n",
            "  Downloading rio_cogeo-3.5.0-py3-none-any.whl (19 kB)\n",
            "Collecting rioxarray\n",
            "  Downloading rioxarray-0.14.0-py3-none-any.whl (53 kB)\n",
            "\u001b[2K     \u001b[90m━━━━━━━━━━━━━━━━━━━━━━━━━━━━━━━━━━━━━━━━\u001b[0m \u001b[32m53.4/53.4 KB\u001b[0m \u001b[31m5.1 MB/s\u001b[0m eta \u001b[36m0:00:00\u001b[0m\n",
            "\u001b[?25hCollecting geedim>=1.6.1\n",
            "  Downloading geedim-1.7.0-py3-none-any.whl (72 kB)\n",
            "\u001b[2K     \u001b[90m━━━━━━━━━━━━━━━━━━━━━━━━━━━━━━━━━━━━━━━━\u001b[0m \u001b[32m72.3/72.3 KB\u001b[0m \u001b[31m8.5 MB/s\u001b[0m eta \u001b[36m0:00:00\u001b[0m\n",
            "\u001b[?25hRequirement already satisfied: bokeh in /usr/local/lib/python3.9/dist-packages (from pygis) (2.4.3)\n",
            "Collecting netcdf4\n",
            "  Downloading netCDF4-1.6.3-cp39-cp39-manylinux_2_17_x86_64.manylinux2014_x86_64.whl (5.2 MB)\n",
            "\u001b[2K     \u001b[90m━━━━━━━━━━━━━━━━━━━━━━━━━━━━━━━━━━━━━━━━\u001b[0m \u001b[32m5.2/5.2 MB\u001b[0m \u001b[31m119.6 MB/s\u001b[0m eta \u001b[36m0:00:00\u001b[0m\n",
            "\u001b[?25hRequirement already satisfied: tqdm>=4.6 in /usr/local/lib/python3.9/dist-packages (from geedim>=1.6.1->pygis) (4.65.0)\n",
            "Requirement already satisfied: requests>=2.2 in /usr/local/lib/python3.9/dist-packages (from geedim>=1.6.1->pygis) (2.27.1)\n",
            "Requirement already satisfied: click>=8 in /usr/local/lib/python3.9/dist-packages (from geedim>=1.6.1->pygis) (8.1.3)\n",
            "Requirement already satisfied: tabulate>=0.8 in /usr/local/lib/python3.9/dist-packages (from geedim>=1.6.1->pygis) (0.8.10)\n",
            "Requirement already satisfied: numpy>=1.19 in /usr/local/lib/python3.9/dist-packages (from geedim>=1.6.1->pygis) (1.22.4)\n",
            "Requirement already satisfied: earthengine-api>=0.1.2 in /usr/local/lib/python3.9/dist-packages (from geedim>=1.6.1->pygis) (0.1.346)\n",
            "Collecting rasterio>=1.1\n",
            "  Downloading rasterio-1.3.6-cp39-cp39-manylinux_2_17_x86_64.manylinux2014_x86_64.whl (20.1 MB)\n",
            "\u001b[2K     \u001b[90m━━━━━━━━━━━━━━━━━━━━━━━━━━━━━━━━━━━━━━━━\u001b[0m \u001b[32m20.1/20.1 MB\u001b[0m \u001b[31m89.4 MB/s\u001b[0m eta \u001b[36m0:00:00\u001b[0m\n",
            "\u001b[?25hCollecting pyperclip\n",
            "  Downloading pyperclip-1.8.2.tar.gz (20 kB)\n",
            "  Preparing metadata (setup.py) ... \u001b[?25l\u001b[?25hdone\n",
            "Collecting ee-extra>=0.0.10\n",
            "  Downloading ee_extra-0.0.15.tar.gz (224 kB)\n",
            "\u001b[2K     \u001b[90m━━━━━━━━━━━━━━━━━━━━━━━━━━━━━━━━━━━━━━\u001b[0m \u001b[32m224.7/224.7 KB\u001b[0m \u001b[31m24.4 MB/s\u001b[0m eta \u001b[36m0:00:00\u001b[0m\n",
            "\u001b[?25h  Preparing metadata (setup.py) ... \u001b[?25l\u001b[?25hdone\n",
            "Collecting sankee>=0.1.0\n",
            "  Downloading sankee-0.2.3.tar.gz (30 kB)\n",
            "  Preparing metadata (setup.py) ... \u001b[?25l\u001b[?25hdone\n",
            "Collecting ffmpeg-python\n",
            "  Downloading ffmpeg_python-0.2.0-py3-none-any.whl (25 kB)\n",
            "Requirement already satisfied: gdown in /usr/local/lib/python3.9/dist-packages (from geemap>=0.18.1->pygis) (4.6.4)\n",
            "Collecting ipyevents\n",
            "  Downloading ipyevents-2.0.1-py2.py3-none-any.whl (130 kB)\n",
            "\u001b[2K     \u001b[90m━━━━━━━━━━━━━━━━━━━━━━━━━━━━━━━━━━━━━━\u001b[0m \u001b[32m130.5/130.5 KB\u001b[0m \u001b[31m15.4 MB/s\u001b[0m eta \u001b[36m0:00:00\u001b[0m\n",
            "\u001b[?25hCollecting whiteboxgui>=0.6.0\n",
            "  Downloading whiteboxgui-2.2.0-py2.py3-none-any.whl (99 kB)\n",
            "\u001b[2K     \u001b[90m━━━━━━━━━━━━━━━━━━━━━━━━━━━━━━━━━━━━━━━━\u001b[0m \u001b[32m99.6/99.6 KB\u001b[0m \u001b[31m13.2 MB/s\u001b[0m eta \u001b[36m0:00:00\u001b[0m\n",
            "\u001b[?25hCollecting colour\n",
            "  Downloading colour-0.1.5-py2.py3-none-any.whl (23 kB)\n",
            "Collecting scooby\n",
            "  Downloading scooby-0.7.1-py3-none-any.whl (16 kB)\n",
            "Requirement already satisfied: ipywidgets<8.0.0 in /usr/local/lib/python3.9/dist-packages (from geemap>=0.18.1->pygis) (7.7.1)\n",
            "Collecting geeadd>=0.5.1\n",
            "  Downloading geeadd-0.5.6-py3-none-any.whl (30 kB)\n",
            "Collecting geojson\n",
            "  Downloading geojson-3.0.1-py3-none-any.whl (15 kB)\n",
            "Collecting ipyfilechooser>=0.6.0\n",
            "  Downloading ipyfilechooser-0.6.0-py3-none-any.whl (11 kB)\n",
            "Collecting bqplot\n",
            "  Downloading bqplot-0.12.36-py2.py3-none-any.whl (1.2 MB)\n",
            "\u001b[2K     \u001b[90m━━━━━━━━━━━━━━━━━━━━━━━━━━━━━━━━━━━━━━━━\u001b[0m \u001b[32m1.2/1.2 MB\u001b[0m \u001b[31m79.3 MB/s\u001b[0m eta \u001b[36m0:00:00\u001b[0m\n",
            "\u001b[?25hCollecting ipyleaflet>=0.17.0\n",
            "  Downloading ipyleaflet-0.17.2-py3-none-any.whl (3.7 MB)\n",
            "\u001b[2K     \u001b[90m━━━━━━━━━━━━━━━━━━━━━━━━━━━━━━━━━━━━━━━━\u001b[0m \u001b[32m3.7/3.7 MB\u001b[0m \u001b[31m80.1 MB/s\u001b[0m eta \u001b[36m0:00:00\u001b[0m\n",
            "\u001b[?25hRequirement already satisfied: pillow in /usr/local/lib/python3.9/dist-packages (from geemap>=0.18.1->pygis) (8.4.0)\n",
            "Requirement already satisfied: pandas in /usr/local/lib/python3.9/dist-packages (from geemap>=0.18.1->pygis) (1.4.4)\n",
            "Collecting xyzservices\n",
            "  Downloading xyzservices-2023.2.0-py3-none-any.whl (55 kB)\n",
            "\u001b[2K     \u001b[90m━━━━━━━━━━━━━━━━━━━━━━━━━━━━━━━━━━━━━━━━\u001b[0m \u001b[32m55.4/55.4 KB\u001b[0m \u001b[31m7.6 MB/s\u001b[0m eta \u001b[36m0:00:00\u001b[0m\n",
            "\u001b[?25hRequirement already satisfied: folium>=0.11.0 in /usr/local/lib/python3.9/dist-packages (from geemap>=0.18.1->pygis) (0.14.0)\n",
            "Collecting python-box\n",
            "  Downloading python_box-7.0.1-cp39-cp39-manylinux_2_5_x86_64.manylinux1_x86_64.manylinux_2_12_x86_64.manylinux2010_x86_64.whl (3.2 MB)\n",
            "\u001b[2K     \u001b[90m━━━━━━━━━━━━━━━━━━━━━━━━━━━━━━━━━━━━━━━━\u001b[0m \u001b[32m3.2/3.2 MB\u001b[0m \u001b[31m88.3 MB/s\u001b[0m eta \u001b[36m0:00:00\u001b[0m\n",
            "\u001b[?25hCollecting geocoder\n",
            "  Downloading geocoder-1.38.1-py2.py3-none-any.whl (98 kB)\n",
            "\u001b[2K     \u001b[90m━━━━━━━━━━━━━━━━━━━━━━━━━━━━━━━━━━━━━━━━\u001b[0m \u001b[32m98.6/98.6 KB\u001b[0m \u001b[31m13.1 MB/s\u001b[0m eta \u001b[36m0:00:00\u001b[0m\n",
            "\u001b[?25hCollecting pyshp>=2.1.3\n",
            "  Downloading pyshp-2.3.1-py2.py3-none-any.whl (46 kB)\n",
            "\u001b[2K     \u001b[90m━━━━━━━━━━━━━━━━━━━━━━━━━━━━━━━━━━━━━━━━\u001b[0m \u001b[32m46.5/46.5 KB\u001b[0m \u001b[31m5.4 MB/s\u001b[0m eta \u001b[36m0:00:00\u001b[0m\n",
            "\u001b[?25hCollecting ipytree\n",
            "  Downloading ipytree-0.2.2-py2.py3-none-any.whl (1.3 MB)\n",
            "\u001b[2K     \u001b[90m━━━━━━━━━━━━━━━━━━━━━━━━━━━━━━━━━━━━━━━━\u001b[0m \u001b[32m1.3/1.3 MB\u001b[0m \u001b[31m69.8 MB/s\u001b[0m eta \u001b[36m0:00:00\u001b[0m\n",
            "\u001b[?25hRequirement already satisfied: matplotlib in /usr/local/lib/python3.9/dist-packages (from geemap>=0.18.1->pygis) (3.7.1)\n",
            "Collecting pycrs\n",
            "  Downloading PyCRS-1.0.2.tar.gz (36 kB)\n",
            "  Preparing metadata (setup.py) ... \u001b[?25l\u001b[?25hdone\n",
            "Collecting eerepr>=0.0.4\n",
            "  Downloading eerepr-0.0.4-py3-none-any.whl (9.7 kB)\n",
            "Requirement already satisfied: ipykernel in /usr/local/lib/python3.9/dist-packages (from leafmap>=0.14.0->pygis) (5.3.4)\n",
            "Collecting folium>=0.11.0\n",
            "  Downloading folium-0.13.0-py2.py3-none-any.whl (96 kB)\n",
            "\u001b[2K     \u001b[90m━━━━━━━━━━━━━━━━━━━━━━━━━━━━━━━━━━━━━━━━\u001b[0m \u001b[32m96.5/96.5 KB\u001b[0m \u001b[31m13.9 MB/s\u001b[0m eta \u001b[36m0:00:00\u001b[0m\n",
            "\u001b[?25hCollecting pystac-client\n",
            "  Downloading pystac_client-0.6.1-py3-none-any.whl (30 kB)\n",
            "Collecting Flask-Caching\n",
            "  Downloading Flask_Caching-2.0.2-py3-none-any.whl (28 kB)\n",
            "Collecting large-image[gdal]>=1.14.1\n",
            "  Downloading large_image-1.20.2-py3-none-any.whl (70 kB)\n",
            "\u001b[2K     \u001b[90m━━━━━━━━━━━━━━━━━━━━━━━━━━━━━━━━━━━━━━━━\u001b[0m \u001b[32m70.6/70.6 KB\u001b[0m \u001b[31m9.1 MB/s\u001b[0m eta \u001b[36m0:00:00\u001b[0m\n",
            "\u001b[?25hRequirement already satisfied: flask>=2.0.0 in /usr/local/lib/python3.9/dist-packages (from localtileserver>=0.6.1->pygis) (2.2.3)\n",
            "Requirement already satisfied: GDAL in /usr/local/lib/python3.9/dist-packages (from localtileserver>=0.6.1->pygis) (3.3.2)\n",
            "Collecting server-thread\n",
            "  Downloading server_thread-0.2.0-py3-none-any.whl (8.5 kB)\n",
            "Collecting flask-cors\n",
            "  Downloading Flask_Cors-3.0.10-py2.py3-none-any.whl (14 kB)\n",
            "Requirement already satisfied: werkzeug in /usr/local/lib/python3.9/dist-packages (from localtileserver>=0.6.1->pygis) (2.2.3)\n",
            "Collecting flask-restx>=0.5.0\n",
            "  Downloading flask_restx-1.1.0-py2.py3-none-any.whl (2.8 MB)\n",
            "\u001b[2K     \u001b[90m━━━━━━━━━━━━━━━━━━━━━━━━━━━━━━━━━━━━━━━━\u001b[0m \u001b[32m2.8/2.8 MB\u001b[0m \u001b[31m98.8 MB/s\u001b[0m eta \u001b[36m0:00:00\u001b[0m\n",
            "\u001b[?25hRequirement already satisfied: scikit-learn in /usr/local/lib/python3.9/dist-packages (from mapclassify>=2.4.0->pygis) (1.2.2)\n",
            "Requirement already satisfied: networkx in /usr/local/lib/python3.9/dist-packages (from mapclassify>=2.4.0->pygis) (3.0)\n",
            "Requirement already satisfied: scipy>=1.0 in /usr/local/lib/python3.9/dist-packages (from mapclassify>=2.4.0->pygis) (1.10.1)\n",
            "Requirement already satisfied: Jinja2>=2.9 in /usr/local/lib/python3.9/dist-packages (from bokeh->pygis) (3.1.2)\n",
            "Requirement already satisfied: PyYAML>=3.10 in /usr/local/lib/python3.9/dist-packages (from bokeh->pygis) (6.0)\n",
            "Requirement already satisfied: tornado>=5.1 in /usr/local/lib/python3.9/dist-packages (from bokeh->pygis) (6.2)\n",
            "Requirement already satisfied: typing-extensions>=3.10.0 in /usr/local/lib/python3.9/dist-packages (from bokeh->pygis) (4.5.0)\n",
            "Requirement already satisfied: packaging>=16.8 in /usr/local/lib/python3.9/dist-packages (from bokeh->pygis) (23.0)\n",
            "Collecting fiona>=1.8\n",
            "  Downloading Fiona-1.9.2-cp39-cp39-manylinux_2_17_x86_64.manylinux2014_x86_64.whl (16.1 MB)\n",
            "\u001b[2K     \u001b[90m━━━━━━━━━━━━━━━━━━━━━━━━━━━━━━━━━━━━━━━━\u001b[0m \u001b[32m16.1/16.1 MB\u001b[0m \u001b[31m97.5 MB/s\u001b[0m eta \u001b[36m0:00:00\u001b[0m\n",
            "\u001b[?25hCollecting pyproj>=2.6.1.post1\n",
            "  Downloading pyproj-3.4.1-cp39-cp39-manylinux_2_17_x86_64.manylinux2014_x86_64.whl (7.7 MB)\n",
            "\u001b[2K     \u001b[90m━━━━━━━━━━━━━━━━━━━━━━━━━━━━━━━━━━━━━━━━\u001b[0m \u001b[32m7.7/7.7 MB\u001b[0m \u001b[31m115.4 MB/s\u001b[0m eta \u001b[36m0:00:00\u001b[0m\n",
            "\u001b[?25hRequirement already satisfied: shapely>=1.7 in /usr/local/lib/python3.9/dist-packages (from geopandas->pygis) (2.0.1)\n",
            "Collecting cftime\n",
            "  Downloading cftime-1.6.2-cp39-cp39-manylinux_2_17_x86_64.manylinux2014_x86_64.whl (1.3 MB)\n",
            "\u001b[2K     \u001b[90m━━━━━━━━━━━━━━━━━━━━━━━━━━━━━━━━━━━━━━━━\u001b[0m \u001b[32m1.3/1.3 MB\u001b[0m \u001b[31m79.0 MB/s\u001b[0m eta \u001b[36m0:00:00\u001b[0m\n",
            "\u001b[?25hCollecting numpy>=1.19\n",
            "  Downloading numpy-1.24.2-cp39-cp39-manylinux_2_17_x86_64.manylinux2014_x86_64.whl (17.3 MB)\n",
            "\u001b[2K     \u001b[90m━━━━━━━━━━━━━━━━━━━━━━━━━━━━━━━━━━━━━━━━\u001b[0m \u001b[32m17.3/17.3 MB\u001b[0m \u001b[31m98.0 MB/s\u001b[0m eta \u001b[36m0:00:00\u001b[0m\n",
            "\u001b[?25hCollecting pandas\n",
            "  Downloading pandas-1.5.3-cp39-cp39-manylinux_2_17_x86_64.manylinux2014_x86_64.whl (12.2 MB)\n",
            "\u001b[2K     \u001b[90m━━━━━━━━━━━━━━━━━━━━━━━━━━━━━━━━━━━━━━━\u001b[0m \u001b[32m12.2/12.2 MB\u001b[0m \u001b[31m110.6 MB/s\u001b[0m eta \u001b[36m0:00:00\u001b[0m\n",
            "\u001b[?25hCollecting requests>=2.2\n",
            "  Downloading requests-2.28.2-py3-none-any.whl (62 kB)\n",
            "\u001b[2K     \u001b[90m━━━━━━━━━━━━━━━━━━━━━━━━━━━━━━━━━━━━━━━━\u001b[0m \u001b[32m62.8/62.8 KB\u001b[0m \u001b[31m8.2 MB/s\u001b[0m eta \u001b[36m0:00:00\u001b[0m\n",
            "\u001b[?25hRequirement already satisfied: python-dateutil>=2.8 in /usr/local/lib/python3.9/dist-packages (from osmnx->pygis) (2.8.2)\n",
            "Requirement already satisfied: lxml in /usr/local/lib/python3.9/dist-packages (from owslib->pygis) (4.9.2)\n",
            "Requirement already satisfied: pytz in /usr/local/lib/python3.9/dist-packages (from owslib->pygis) (2022.7.1)\n",
            "Requirement already satisfied: tenacity>=6.2.0 in /usr/local/lib/python3.9/dist-packages (from plotly->pygis) (8.2.2)\n",
            "Collecting py<2.0.0,>=1.4.26\n",
            "  Downloading py-1.11.0-py2.py3-none-any.whl (98 kB)\n",
            "\u001b[2K     \u001b[90m━━━━━━━━━━━━━━━━━━━━━━━━━━━━━━━━━━━━━━━━\u001b[0m \u001b[32m98.7/98.7 KB\u001b[0m \u001b[31m12.3 MB/s\u001b[0m eta \u001b[36m0:00:00\u001b[0m\n",
            "\u001b[?25hRequirement already satisfied: decorator>=3.4.2 in /usr/local/lib/python3.9/dist-packages (from retry->pygis) (4.4.2)\n",
            "Collecting morecantile<4.0,>=3.1\n",
            "  Downloading morecantile-3.3.0-py3-none-any.whl (33 kB)\n",
            "Requirement already satisfied: pydantic in /usr/local/lib/python3.9/dist-packages (from rio-cogeo->pygis) (1.10.7)\n",
            "Requirement already satisfied: xarray>=0.17 in /usr/local/lib/python3.9/dist-packages (from rioxarray->pygis) (2022.12.0)\n",
            "Requirement already satisfied: httplib2<1dev,>=0.9.2 in /usr/local/lib/python3.9/dist-packages (from earthengine-api>=0.1.2->geedim>=1.6.1->pygis) (0.21.0)\n",
            "Requirement already satisfied: google-auth-httplib2>=0.0.3 in /usr/local/lib/python3.9/dist-packages (from earthengine-api>=0.1.2->geedim>=1.6.1->pygis) (0.1.0)\n",
            "Requirement already satisfied: google-api-python-client>=1.12.1 in /usr/local/lib/python3.9/dist-packages (from earthengine-api>=0.1.2->geedim>=1.6.1->pygis) (2.70.0)\n",
            "Requirement already satisfied: google-cloud-storage in /usr/local/lib/python3.9/dist-packages (from earthengine-api>=0.1.2->geedim>=1.6.1->pygis) (2.7.0)\n",
            "Requirement already satisfied: google-auth>=1.4.1 in /usr/local/lib/python3.9/dist-packages (from earthengine-api>=0.1.2->geedim>=1.6.1->pygis) (2.16.2)\n",
            "Collecting cligj>=0.5\n",
            "  Downloading cligj-0.7.2-py3-none-any.whl (7.1 kB)\n",
            "Collecting click-plugins>=1.0\n",
            "  Downloading click_plugins-1.1.1-py2.py3-none-any.whl (7.5 kB)\n",
            "Collecting munch>=2.3.2\n",
            "  Downloading munch-2.5.0-py2.py3-none-any.whl (10 kB)\n",
            "Requirement already satisfied: certifi in /usr/local/lib/python3.9/dist-packages (from fiona>=1.8->geopandas->pygis) (2022.12.7)\n",
            "Requirement already satisfied: attrs>=19.2.0 in /usr/local/lib/python3.9/dist-packages (from fiona>=1.8->geopandas->pygis) (22.2.0)\n",
            "Requirement already satisfied: importlib-metadata in /usr/local/lib/python3.9/dist-packages (from fiona>=1.8->geopandas->pygis) (6.1.0)\n",
            "Requirement already satisfied: itsdangerous>=2.0 in /usr/local/lib/python3.9/dist-packages (from flask>=2.0.0->localtileserver>=0.6.1->pygis) (2.1.2)\n",
            "Requirement already satisfied: jsonschema in /usr/local/lib/python3.9/dist-packages (from flask-restx>=0.5.0->localtileserver>=0.6.1->pygis) (4.3.3)\n",
            "Collecting aniso8601>=0.82\n",
            "  Downloading aniso8601-9.0.1-py2.py3-none-any.whl (52 kB)\n",
            "\u001b[2K     \u001b[90m━━━━━━━━━━━━━━━━━━━━━━━━━━━━━━━━━━━━━━━━\u001b[0m \u001b[32m52.8/52.8 KB\u001b[0m \u001b[31m7.2 MB/s\u001b[0m eta \u001b[36m0:00:00\u001b[0m\n",
            "\u001b[?25hRequirement already satisfied: branca>=0.3.0 in /usr/local/lib/python3.9/dist-packages (from folium>=0.11.0->geemap>=0.18.1->pygis) (0.6.0)\n",
            "Requirement already satisfied: beautifulsoup4>=4.9.0 in /usr/local/lib/python3.9/dist-packages (from geeadd>=0.5.1->geemap>=0.18.1->pygis) (4.11.2)\n",
            "Collecting logzero>=1.5.0\n",
            "  Downloading logzero-1.7.0-py2.py3-none-any.whl (16 kB)\n",
            "Collecting traittypes<3,>=0.2.1\n",
            "  Downloading traittypes-0.2.1-py2.py3-none-any.whl (8.6 kB)\n",
            "Requirement already satisfied: jupyterlab-widgets>=1.0.0 in /usr/local/lib/python3.9/dist-packages (from ipywidgets<8.0.0->geemap>=0.18.1->pygis) (3.0.6)\n",
            "Requirement already satisfied: widgetsnbextension~=3.6.0 in /usr/local/lib/python3.9/dist-packages (from ipywidgets<8.0.0->geemap>=0.18.1->pygis) (3.6.3)\n",
            "Requirement already satisfied: ipython-genutils~=0.2.0 in /usr/local/lib/python3.9/dist-packages (from ipywidgets<8.0.0->geemap>=0.18.1->pygis) (0.2.0)\n",
            "Requirement already satisfied: ipython>=4.0.0 in /usr/local/lib/python3.9/dist-packages (from ipywidgets<8.0.0->geemap>=0.18.1->pygis) (7.9.0)\n",
            "Requirement already satisfied: traitlets>=4.3.1 in /usr/local/lib/python3.9/dist-packages (from ipywidgets<8.0.0->geemap>=0.18.1->pygis) (5.7.1)\n",
            "Requirement already satisfied: jupyter-client in /usr/local/lib/python3.9/dist-packages (from ipykernel->leafmap>=0.14.0->pygis) (6.1.12)\n",
            "Requirement already satisfied: MarkupSafe>=2.0 in /usr/local/lib/python3.9/dist-packages (from Jinja2>=2.9->bokeh->pygis) (2.1.2)\n",
            "Requirement already satisfied: psutil>=4.2.0 in /usr/local/lib/python3.9/dist-packages (from large-image[gdal]>=1.14.1->localtileserver>=0.6.1->pygis) (5.9.4)\n",
            "Requirement already satisfied: cachetools>=3.0.0 in /usr/local/lib/python3.9/dist-packages (from large-image[gdal]>=1.14.1->localtileserver>=0.6.1->pygis) (5.3.0)\n",
            "Collecting large-image-source-gdal>=1.20.2\n",
            "  Downloading large_image_source_gdal-1.20.2-py3-none-any.whl (21 kB)\n",
            "Requirement already satisfied: contourpy>=1.0.1 in /usr/local/lib/python3.9/dist-packages (from matplotlib->geemap>=0.18.1->pygis) (1.0.7)\n",
            "Requirement already satisfied: kiwisolver>=1.0.1 in /usr/local/lib/python3.9/dist-packages (from matplotlib->geemap>=0.18.1->pygis) (1.4.4)\n",
            "Requirement already satisfied: importlib-resources>=3.2.0 in /usr/local/lib/python3.9/dist-packages (from matplotlib->geemap>=0.18.1->pygis) (5.12.0)\n",
            "Requirement already satisfied: fonttools>=4.22.0 in /usr/local/lib/python3.9/dist-packages (from matplotlib->geemap>=0.18.1->pygis) (4.39.2)\n",
            "Requirement already satisfied: pyparsing>=2.3.1 in /usr/local/lib/python3.9/dist-packages (from matplotlib->geemap>=0.18.1->pygis) (3.0.9)\n",
            "Requirement already satisfied: cycler>=0.10 in /usr/local/lib/python3.9/dist-packages (from matplotlib->geemap>=0.18.1->pygis) (0.11.0)\n",
            "Requirement already satisfied: six>=1.5 in /usr/local/lib/python3.9/dist-packages (from python-dateutil>=2.8->osmnx->pygis) (1.16.0)\n",
            "Requirement already satisfied: setuptools in /usr/local/lib/python3.9/dist-packages (from rasterio>=1.1->geedim>=1.6.1->pygis) (67.6.0)\n",
            "Collecting affine\n",
            "  Downloading affine-2.4.0-py3-none-any.whl (15 kB)\n",
            "Collecting snuggs>=1.4.1\n",
            "  Downloading snuggs-1.4.7-py3-none-any.whl (5.4 kB)\n",
            "Requirement already satisfied: urllib3<1.27,>=1.21.1 in /usr/local/lib/python3.9/dist-packages (from requests>=2.2->geedim>=1.6.1->pygis) (1.26.15)\n",
            "Requirement already satisfied: charset-normalizer<4,>=2 in /usr/local/lib/python3.9/dist-packages (from requests>=2.2->geedim>=1.6.1->pygis) (2.0.12)\n",
            "Requirement already satisfied: idna<4,>=2.5 in /usr/local/lib/python3.9/dist-packages (from requests>=2.2->geedim>=1.6.1->pygis) (3.4)\n",
            "Collecting whitebox\n",
            "  Downloading whitebox-2.2.0-py2.py3-none-any.whl (79 kB)\n",
            "\u001b[2K     \u001b[90m━━━━━━━━━━━━━━━━━━━━━━━━━━━━━━━━━━━━━━━\u001b[0m \u001b[32m79.9/79.9 KB\u001b[0m \u001b[31m408.9 kB/s\u001b[0m eta \u001b[36m0:00:00\u001b[0m\n",
            "\u001b[?25hRequirement already satisfied: future in /usr/local/lib/python3.9/dist-packages (from ffmpeg-python->geemap>=0.18.1->pygis) (0.18.3)\n",
            "Collecting cachelib<0.10.0,>=0.9.0\n",
            "  Downloading cachelib-0.9.0-py3-none-any.whl (15 kB)\n",
            "Requirement already satisfied: filelock in /usr/local/lib/python3.9/dist-packages (from gdown->geemap>=0.18.1->pygis) (3.10.2)\n",
            "Collecting ratelim\n",
            "  Downloading ratelim-0.1.6-py2.py3-none-any.whl (4.0 kB)\n",
            "Collecting pystac>=1.7.0\n",
            "  Downloading pystac-1.7.1-py3-none-any.whl (153 kB)\n",
            "\u001b[2K     \u001b[90m━━━━━━━━━━━━━━━━━━━━━━━━━━━━━━━━━━━━━━\u001b[0m \u001b[32m153.9/153.9 KB\u001b[0m \u001b[31m19.7 MB/s\u001b[0m eta \u001b[36m0:00:00\u001b[0m\n",
            "\u001b[?25hRequirement already satisfied: threadpoolctl>=2.0.0 in /usr/local/lib/python3.9/dist-packages (from scikit-learn->mapclassify>=2.4.0->pygis) (3.1.0)\n",
            "Requirement already satisfied: joblib>=1.1.1 in /usr/local/lib/python3.9/dist-packages (from scikit-learn->mapclassify>=2.4.0->pygis) (1.1.1)\n",
            "Collecting uvicorn\n",
            "  Downloading uvicorn-0.21.1-py3-none-any.whl (57 kB)\n",
            "\u001b[2K     \u001b[90m━━━━━━━━━━━━━━━━━━━━━━━━━━━━━━━━━━━━━━━━\u001b[0m \u001b[32m57.8/57.8 KB\u001b[0m \u001b[31m5.6 MB/s\u001b[0m eta \u001b[36m0:00:00\u001b[0m\n",
            "\u001b[?25hRequirement already satisfied: soupsieve>1.2 in /usr/local/lib/python3.9/dist-packages (from beautifulsoup4>=4.9.0->geeadd>=0.5.1->geemap>=0.18.1->pygis) (2.4)\n",
            "Requirement already satisfied: google-api-core!=2.0.*,!=2.1.*,!=2.2.*,!=2.3.0,<3.0.0dev,>=1.31.5 in /usr/local/lib/python3.9/dist-packages (from google-api-python-client>=1.12.1->earthengine-api>=0.1.2->geedim>=1.6.1->pygis) (2.11.0)\n",
            "Requirement already satisfied: uritemplate<5,>=3.0.1 in /usr/local/lib/python3.9/dist-packages (from google-api-python-client>=1.12.1->earthengine-api>=0.1.2->geedim>=1.6.1->pygis) (4.1.1)\n",
            "Requirement already satisfied: rsa<5,>=3.1.4 in /usr/local/lib/python3.9/dist-packages (from google-auth>=1.4.1->earthengine-api>=0.1.2->geedim>=1.6.1->pygis) (4.9)\n",
            "Requirement already satisfied: pyasn1-modules>=0.2.1 in /usr/local/lib/python3.9/dist-packages (from google-auth>=1.4.1->earthengine-api>=0.1.2->geedim>=1.6.1->pygis) (0.2.8)\n",
            "Requirement already satisfied: zipp>=0.5 in /usr/local/lib/python3.9/dist-packages (from importlib-metadata->fiona>=1.8->geopandas->pygis) (3.15.0)\n",
            "Requirement already satisfied: pexpect in /usr/local/lib/python3.9/dist-packages (from ipython>=4.0.0->ipywidgets<8.0.0->geemap>=0.18.1->pygis) (4.8.0)\n",
            "Requirement already satisfied: prompt-toolkit<2.1.0,>=2.0.0 in /usr/local/lib/python3.9/dist-packages (from ipython>=4.0.0->ipywidgets<8.0.0->geemap>=0.18.1->pygis) (2.0.10)\n",
            "Requirement already satisfied: pygments in /usr/local/lib/python3.9/dist-packages (from ipython>=4.0.0->ipywidgets<8.0.0->geemap>=0.18.1->pygis) (2.14.0)\n",
            "Requirement already satisfied: pickleshare in /usr/local/lib/python3.9/dist-packages (from ipython>=4.0.0->ipywidgets<8.0.0->geemap>=0.18.1->pygis) (0.7.5)\n",
            "Collecting jedi>=0.10\n",
            "  Downloading jedi-0.18.2-py2.py3-none-any.whl (1.6 MB)\n",
            "\u001b[2K     \u001b[90m━━━━━━━━━━━━━━━━━━━━━━━━━━━━━━━━━━━━━━━━\u001b[0m \u001b[32m1.6/1.6 MB\u001b[0m \u001b[31m80.0 MB/s\u001b[0m eta \u001b[36m0:00:00\u001b[0m\n",
            "\u001b[?25hRequirement already satisfied: backcall in /usr/local/lib/python3.9/dist-packages (from ipython>=4.0.0->ipywidgets<8.0.0->geemap>=0.18.1->pygis) (0.2.0)\n",
            "Requirement already satisfied: notebook>=4.4.1 in /usr/local/lib/python3.9/dist-packages (from widgetsnbextension~=3.6.0->ipywidgets<8.0.0->geemap>=0.18.1->pygis) (6.3.0)\n",
            "Requirement already satisfied: google-resumable-media>=2.3.2 in /usr/local/lib/python3.9/dist-packages (from google-cloud-storage->earthengine-api>=0.1.2->geedim>=1.6.1->pygis) (2.4.1)\n",
            "Requirement already satisfied: google-cloud-core<3.0dev,>=2.3.0 in /usr/local/lib/python3.9/dist-packages (from google-cloud-storage->earthengine-api>=0.1.2->geedim>=1.6.1->pygis) (2.3.2)\n",
            "Requirement already satisfied: pyrsistent!=0.17.0,!=0.17.1,!=0.17.2,>=0.14.0 in /usr/local/lib/python3.9/dist-packages (from jsonschema->flask-restx>=0.5.0->localtileserver>=0.6.1->pygis) (0.19.3)\n",
            "Requirement already satisfied: jupyter-core>=4.6.0 in /usr/local/lib/python3.9/dist-packages (from jupyter-client->ipykernel->leafmap>=0.14.0->pygis) (5.3.0)\n",
            "Requirement already satisfied: pyzmq>=13 in /usr/local/lib/python3.9/dist-packages (from jupyter-client->ipykernel->leafmap>=0.14.0->pygis) (23.2.1)\n",
            "Requirement already satisfied: PySocks!=1.5.7,>=1.5.6 in /usr/local/lib/python3.9/dist-packages (from requests>=2.2->geedim>=1.6.1->pygis) (1.7.1)\n",
            "Collecting h11>=0.8\n",
            "  Downloading h11-0.14.0-py3-none-any.whl (58 kB)\n",
            "\u001b[2K     \u001b[90m━━━━━━━━━━━━━━━━━━━━━━━━━━━━━━━━━━━━━━━━\u001b[0m \u001b[32m58.3/58.3 KB\u001b[0m \u001b[31m8.0 MB/s\u001b[0m eta \u001b[36m0:00:00\u001b[0m\n",
            "\u001b[?25hRequirement already satisfied: googleapis-common-protos<2.0dev,>=1.56.2 in /usr/local/lib/python3.9/dist-packages (from google-api-core!=2.0.*,!=2.1.*,!=2.2.*,!=2.3.0,<3.0.0dev,>=1.31.5->google-api-python-client>=1.12.1->earthengine-api>=0.1.2->geedim>=1.6.1->pygis) (1.59.0)\n",
            "Requirement already satisfied: protobuf!=3.20.0,!=3.20.1,!=4.21.0,!=4.21.1,!=4.21.2,!=4.21.3,!=4.21.4,!=4.21.5,<5.0.0dev,>=3.19.5 in /usr/local/lib/python3.9/dist-packages (from google-api-core!=2.0.*,!=2.1.*,!=2.2.*,!=2.3.0,<3.0.0dev,>=1.31.5->google-api-python-client>=1.12.1->earthengine-api>=0.1.2->geedim>=1.6.1->pygis) (3.19.6)\n",
            "Requirement already satisfied: google-crc32c<2.0dev,>=1.0 in /usr/local/lib/python3.9/dist-packages (from google-resumable-media>=2.3.2->google-cloud-storage->earthengine-api>=0.1.2->geedim>=1.6.1->pygis) (1.5.0)\n",
            "Requirement already satisfied: parso<0.9.0,>=0.8.0 in /usr/local/lib/python3.9/dist-packages (from jedi>=0.10->ipython>=4.0.0->ipywidgets<8.0.0->geemap>=0.18.1->pygis) (0.8.3)\n",
            "Requirement already satisfied: platformdirs>=2.5 in /usr/local/lib/python3.9/dist-packages (from jupyter-core>=4.6.0->jupyter-client->ipykernel->leafmap>=0.14.0->pygis) (3.1.1)\n",
            "Requirement already satisfied: Send2Trash>=1.5.0 in /usr/local/lib/python3.9/dist-packages (from notebook>=4.4.1->widgetsnbextension~=3.6.0->ipywidgets<8.0.0->geemap>=0.18.1->pygis) (1.8.0)\n",
            "Requirement already satisfied: terminado>=0.8.3 in /usr/local/lib/python3.9/dist-packages (from notebook>=4.4.1->widgetsnbextension~=3.6.0->ipywidgets<8.0.0->geemap>=0.18.1->pygis) (0.17.1)\n",
            "Requirement already satisfied: nbformat in /usr/local/lib/python3.9/dist-packages (from notebook>=4.4.1->widgetsnbextension~=3.6.0->ipywidgets<8.0.0->geemap>=0.18.1->pygis) (5.8.0)\n",
            "Requirement already satisfied: argon2-cffi in /usr/local/lib/python3.9/dist-packages (from notebook>=4.4.1->widgetsnbextension~=3.6.0->ipywidgets<8.0.0->geemap>=0.18.1->pygis) (21.3.0)\n",
            "Requirement already satisfied: nbconvert in /usr/local/lib/python3.9/dist-packages (from notebook>=4.4.1->widgetsnbextension~=3.6.0->ipywidgets<8.0.0->geemap>=0.18.1->pygis) (6.5.4)\n",
            "Requirement already satisfied: prometheus-client in /usr/local/lib/python3.9/dist-packages (from notebook>=4.4.1->widgetsnbextension~=3.6.0->ipywidgets<8.0.0->geemap>=0.18.1->pygis) (0.16.0)\n",
            "Requirement already satisfied: wcwidth in /usr/local/lib/python3.9/dist-packages (from prompt-toolkit<2.1.0,>=2.0.0->ipython>=4.0.0->ipywidgets<8.0.0->geemap>=0.18.1->pygis) (0.2.6)\n",
            "Requirement already satisfied: pyasn1<0.5.0,>=0.4.6 in /usr/local/lib/python3.9/dist-packages (from pyasn1-modules>=0.2.1->google-auth>=1.4.1->earthengine-api>=0.1.2->geedim>=1.6.1->pygis) (0.4.8)\n",
            "Requirement already satisfied: ptyprocess>=0.5 in /usr/local/lib/python3.9/dist-packages (from pexpect->ipython>=4.0.0->ipywidgets<8.0.0->geemap>=0.18.1->pygis) (0.7.0)\n",
            "Requirement already satisfied: argon2-cffi-bindings in /usr/local/lib/python3.9/dist-packages (from argon2-cffi->notebook>=4.4.1->widgetsnbextension~=3.6.0->ipywidgets<8.0.0->geemap>=0.18.1->pygis) (21.2.0)\n",
            "Requirement already satisfied: jupyterlab-pygments in /usr/local/lib/python3.9/dist-packages (from nbconvert->notebook>=4.4.1->widgetsnbextension~=3.6.0->ipywidgets<8.0.0->geemap>=0.18.1->pygis) (0.2.2)\n",
            "Requirement already satisfied: nbclient>=0.5.0 in /usr/local/lib/python3.9/dist-packages (from nbconvert->notebook>=4.4.1->widgetsnbextension~=3.6.0->ipywidgets<8.0.0->geemap>=0.18.1->pygis) (0.7.2)\n",
            "Requirement already satisfied: mistune<2,>=0.8.1 in /usr/local/lib/python3.9/dist-packages (from nbconvert->notebook>=4.4.1->widgetsnbextension~=3.6.0->ipywidgets<8.0.0->geemap>=0.18.1->pygis) (0.8.4)\n",
            "Requirement already satisfied: pandocfilters>=1.4.1 in /usr/local/lib/python3.9/dist-packages (from nbconvert->notebook>=4.4.1->widgetsnbextension~=3.6.0->ipywidgets<8.0.0->geemap>=0.18.1->pygis) (1.5.0)\n",
            "Requirement already satisfied: tinycss2 in /usr/local/lib/python3.9/dist-packages (from nbconvert->notebook>=4.4.1->widgetsnbextension~=3.6.0->ipywidgets<8.0.0->geemap>=0.18.1->pygis) (1.2.1)\n",
            "Requirement already satisfied: entrypoints>=0.2.2 in /usr/local/lib/python3.9/dist-packages (from nbconvert->notebook>=4.4.1->widgetsnbextension~=3.6.0->ipywidgets<8.0.0->geemap>=0.18.1->pygis) (0.4)\n",
            "Requirement already satisfied: bleach in /usr/local/lib/python3.9/dist-packages (from nbconvert->notebook>=4.4.1->widgetsnbextension~=3.6.0->ipywidgets<8.0.0->geemap>=0.18.1->pygis) (6.0.0)\n",
            "Requirement already satisfied: defusedxml in /usr/local/lib/python3.9/dist-packages (from nbconvert->notebook>=4.4.1->widgetsnbextension~=3.6.0->ipywidgets<8.0.0->geemap>=0.18.1->pygis) (0.7.1)\n",
            "Requirement already satisfied: fastjsonschema in /usr/local/lib/python3.9/dist-packages (from nbformat->notebook>=4.4.1->widgetsnbextension~=3.6.0->ipywidgets<8.0.0->geemap>=0.18.1->pygis) (2.16.3)\n",
            "Requirement already satisfied: cffi>=1.0.1 in /usr/local/lib/python3.9/dist-packages (from argon2-cffi-bindings->argon2-cffi->notebook>=4.4.1->widgetsnbextension~=3.6.0->ipywidgets<8.0.0->geemap>=0.18.1->pygis) (1.15.1)\n",
            "Requirement already satisfied: webencodings in /usr/local/lib/python3.9/dist-packages (from bleach->nbconvert->notebook>=4.4.1->widgetsnbextension~=3.6.0->ipywidgets<8.0.0->geemap>=0.18.1->pygis) (0.5.1)\n",
            "Requirement already satisfied: pycparser in /usr/local/lib/python3.9/dist-packages (from cffi>=1.0.1->argon2-cffi-bindings->argon2-cffi->notebook>=4.4.1->widgetsnbextension~=3.6.0->ipywidgets<8.0.0->geemap>=0.18.1->pygis) (2.21)\n",
            "Building wheels for collected packages: ipynb-py-convert, ee-extra, sankee, pycrs, pyperclip\n",
            "  Building wheel for ipynb-py-convert (setup.py) ... \u001b[?25l\u001b[?25hdone\n",
            "  Created wheel for ipynb-py-convert: filename=ipynb_py_convert-0.4.6-py3-none-any.whl size=4638 sha256=957318362a12def3977d9c87f71782b2e7244724eda22d26ae5c806e480718b6\n",
            "  Stored in directory: /root/.cache/pip/wheels/fb/30/0a/8583891c6c77151c78027a391022455ab3c1a643fff73cc912\n",
            "  Building wheel for ee-extra (setup.py) ... \u001b[?25l\u001b[?25hdone\n",
            "  Created wheel for ee-extra: filename=ee_extra-0.0.15-py3-none-any.whl size=236771 sha256=c4d645ec6d016b1fc146c697f7d1f0966eb55d590b454e8e2739151ae843b629\n",
            "  Stored in directory: /root/.cache/pip/wheels/66/66/06/98d6dee3f612d84d2b487fc73ca2c2479279dc2714faddcc10\n",
            "  Building wheel for sankee (setup.py) ... \u001b[?25l\u001b[?25hdone\n",
            "  Created wheel for sankee: filename=sankee-0.2.3-py3-none-any.whl size=30511 sha256=b0c4e2bd47be31c207f3f3dc169e148b3a46f2b861c40bf2d99c3cda6e833a35\n",
            "  Stored in directory: /root/.cache/pip/wheels/a0/77/76/04746a9b2af1cfe05fbfb90463ee0a1e5a632e162d85e7cf33\n",
            "  Building wheel for pycrs (setup.py) ... \u001b[?25l\u001b[?25hdone\n",
            "  Created wheel for pycrs: filename=PyCRS-1.0.2-py3-none-any.whl size=32702 sha256=947b09bca4e93483ef11c6c9d8cfbf5f70fc3ac48307484747917175c5ac1fb3\n",
            "  Stored in directory: /root/.cache/pip/wheels/94/01/24/bc7bff66667ef317615144a15e04593a08d9bb322f2c427d6c\n",
            "  Building wheel for pyperclip (setup.py) ... \u001b[?25l\u001b[?25hdone\n",
            "  Created wheel for pyperclip: filename=pyperclip-1.8.2-py3-none-any.whl size=11135 sha256=53bef1d7a0cd3e1ac0540ae8c77f44da2bb537042c592f6af58815dec0588b12\n",
            "  Stored in directory: /root/.cache/pip/wheels/0c/09/9e/49e21a6840ef7955b06d47394afef0058f0378c0914e48b8b8\n",
            "Successfully built ipynb-py-convert ee-extra sankee pycrs pyperclip\n",
            "Installing collected packages: pyperclip, pycrs, logzero, ipynb-py-convert, colour, aniso8601, xyzservices, whitebox, traittypes, scooby, requests, ratelim, python-box, pyshp, pyproj, py, numpy, munch, mss, jedi, h11, geojson, ffmpeg-python, cligj, click-plugins, cachelib, affine, uvicorn, snuggs, retry, pystac, pandas, owslib, morecantile, large-image, geocoder, fiona, cftime, server-thread, rasterio, pystac-client, netcdf4, large-image-source-gdal, geopandas, folium, flask-restx, flask-cors, Flask-Caching, rioxarray, rio-cogeo, osmnx, mapclassify, localtileserver, geedim, geeadd, eerepr, ee-extra, sankee, ipytree, ipyleaflet, ipyfilechooser, ipyevents, bqplot, whiteboxgui, leafmap, geemap, pygis\n",
            "  Attempting uninstall: requests\n",
            "    Found existing installation: requests 2.27.1\n",
            "    Uninstalling requests-2.27.1:\n",
            "      Successfully uninstalled requests-2.27.1\n",
            "  Attempting uninstall: numpy\n",
            "    Found existing installation: numpy 1.22.4\n",
            "    Uninstalling numpy-1.22.4:\n",
            "      Successfully uninstalled numpy-1.22.4\n",
            "  Attempting uninstall: pandas\n",
            "    Found existing installation: pandas 1.4.4\n",
            "    Uninstalling pandas-1.4.4:\n",
            "      Successfully uninstalled pandas-1.4.4\n",
            "  Attempting uninstall: folium\n",
            "    Found existing installation: folium 0.14.0\n",
            "    Uninstalling folium-0.14.0:\n",
            "      Successfully uninstalled folium-0.14.0\n",
            "\u001b[31mERROR: pip's dependency resolver does not currently take into account all the packages that are installed. This behaviour is the source of the following dependency conflicts.\n",
            "numba 0.56.4 requires numpy<1.24,>=1.18, but you have numpy 1.24.2 which is incompatible.\u001b[0m\u001b[31m\n",
            "\u001b[0mSuccessfully installed Flask-Caching-2.0.2 affine-2.4.0 aniso8601-9.0.1 bqplot-0.12.36 cachelib-0.9.0 cftime-1.6.2 click-plugins-1.1.1 cligj-0.7.2 colour-0.1.5 ee-extra-0.0.15 eerepr-0.0.4 ffmpeg-python-0.2.0 fiona-1.9.2 flask-cors-3.0.10 flask-restx-1.1.0 folium-0.13.0 geeadd-0.5.6 geedim-1.7.0 geemap-0.20.4 geocoder-1.38.1 geojson-3.0.1 geopandas-0.12.2 h11-0.14.0 ipyevents-2.0.1 ipyfilechooser-0.6.0 ipyleaflet-0.17.2 ipynb-py-convert-0.4.6 ipytree-0.2.2 jedi-0.18.2 large-image-1.20.2 large-image-source-gdal-1.20.2 leafmap-0.18.8 localtileserver-0.6.4 logzero-1.7.0 mapclassify-2.5.0 morecantile-3.3.0 mss-7.0.1 munch-2.5.0 netcdf4-1.6.3 numpy-1.24.2 osmnx-1.3.0 owslib-0.28.1 pandas-1.5.3 py-1.11.0 pycrs-1.0.2 pygis-0.5.0 pyperclip-1.8.2 pyproj-3.4.1 pyshp-2.3.1 pystac-1.7.1 pystac-client-0.6.1 python-box-7.0.1 rasterio-1.3.6 ratelim-0.1.6 requests-2.28.2 retry-0.9.2 rio-cogeo-3.5.0 rioxarray-0.14.0 sankee-0.2.3 scooby-0.7.1 server-thread-0.2.0 snuggs-1.4.7 traittypes-0.2.1 uvicorn-0.21.1 whitebox-2.2.0 whiteboxgui-2.2.0 xyzservices-2023.2.0\n"
          ]
        }
      ],
      "source": [
        "%pip install pygis"
      ],
      "id": "lzdo-DOnHklJ"
    },
    {
      "cell_type": "code",
      "execution_count": 4,
      "metadata": {
        "id": "vzPuua-7HklK"
      },
      "outputs": [],
      "source": [
        "import ee\n",
        "import geemap"
      ],
      "id": "vzPuua-7HklK"
    },
    {
      "cell_type": "code",
      "execution_count": 5,
      "metadata": {
        "id": "ikiep8HfHklK",
        "outputId": "bf3137c1-1a7e-4abc-ee3f-edc8c09e75eb",
        "colab": {
          "base_uri": "https://localhost:8080/"
        }
      },
      "outputs": [
        {
          "output_type": "stream",
          "name": "stdout",
          "text": [
            "To authorize access needed by Earth Engine, open the following URL in a web browser and follow the instructions. If the web browser does not start automatically, please manually browse the URL below.\n",
            "\n",
            "    https://code.earthengine.google.com/client-auth?scopes=https%3A//www.googleapis.com/auth/earthengine%20https%3A//www.googleapis.com/auth/devstorage.full_control&request_id=G6PwBjf-dc2iNIupkfL73cYg3ZguF1WGTeVBMKXjCyc&tc=bFIWAWUFV6l5_M7DHoKHLsG6s36pjm4YjOhVXWc5d1E&cc=9k-w8Tfw14Se2BWczqKySlcnx_pDMJfDe4Vnt2rgbZA\n",
            "\n",
            "The authorization workflow will generate a code, which you should paste in the box below.\n",
            "Enter verification code: 4/1AVHEtk7lmINMDuGFpaPlidRc6C_7vEWGFE7LPtMljTnLXPBOTcpERm6b0oE\n",
            "\n",
            "Successfully saved authorization token.\n"
          ]
        }
      ],
      "source": [
        "geemap.ee_initialize()"
      ],
      "id": "ikiep8HfHklK"
    },
    {
      "cell_type": "markdown",
      "metadata": {
        "id": "UJZRVdzdHklK"
      },
      "source": [
        "## The map function"
      ],
      "id": "UJZRVdzdHklK"
    },
    {
      "cell_type": "code",
      "execution_count": 7,
      "metadata": {
        "id": "xXbVAtkrHklL",
        "outputId": "d5e6488d-2742-4f80-891a-741cd15fedad",
        "colab": {
          "base_uri": "https://localhost:8080/",
          "height": 68
        }
      },
      "outputs": [
        {
          "output_type": "execute_result",
          "data": {
            "text/plain": [
              "<ee.ee_list.List at 0x7f647e59b790>"
            ],
            "text/html": [
              "<div><style>:root {\n",
              "  --font-color-primary: var(--jp-content-font-color0, rgba(0, 0, 0, 1));\n",
              "  --font-color-secondary: var(--jp-content-font-color2, rgba(0, 0, 0, 0.6));\n",
              "  --font-color-accent: rgba(123, 31, 162, 1);\n",
              "  --border-color: var(--jp-border-color2, #e0e0e0);\n",
              "  --background-color: var(--jp-layout-color0, white);\n",
              "  --background-color-row-even: var(--jp-layout-color1, white);\n",
              "  --background-color-row-odd: var(--jp-layout-color2, #eeeeee);\n",
              "}\n",
              "\n",
              "html[theme=\"dark\"],\n",
              "body[data-theme=\"dark\"],\n",
              "body.vscode-dark {\n",
              "  --font-color-primary: rgba(255, 255, 255, 1);\n",
              "  --font-color-secondary: rgba(255, 255, 255, 0.6);\n",
              "  --font-color-accent: rgb(173, 132, 190);\n",
              "  --border-color: #2e2e2e;\n",
              "  --background-color: #111111;\n",
              "  --background-color-row-even: #111111;\n",
              "  --background-color-row-odd: #313131;\n",
              "}\n",
              "\n",
              ".ee {\n",
              "  padding: 1em;\n",
              "  line-height: 1.5em;\n",
              "  min-width: 300px;\n",
              "  max-width: 1200px;\n",
              "  overflow-y: scroll;\n",
              "  max-height: 600px;\n",
              "  border: 1px solid var(--border-color);\n",
              "  font-family: monospace;\n",
              "}\n",
              "\n",
              ".ee li {\n",
              "  list-style-type: none;\n",
              "}\n",
              "\n",
              ".ee ul {\n",
              "  padding-left: 1.5em !important;\n",
              "  margin: 0;\n",
              "}\n",
              "\n",
              ".ee > ul {\n",
              "  padding-left: 0 !important;\n",
              "}\n",
              "\n",
              ".ee-open,\n",
              ".ee-shut {\n",
              "  color: var(--font-color-secondary);\n",
              "  cursor: pointer;\n",
              "  margin: 0;\n",
              "}\n",
              "\n",
              ".ee-open:hover,\n",
              ".ee-shut:hover {\n",
              "  color: var(--font-color-primary);\n",
              "}\n",
              "\n",
              ".ee-k {\n",
              "  color: var(--font-color-accent);\n",
              "  margin-right: 6px;\n",
              "}\n",
              "\n",
              ".ee-v {\n",
              "  color: var(--font-color-primary);\n",
              "}\n",
              "\n",
              ".ee-toggle {\n",
              "  display: none;\n",
              "}\n",
              "\n",
              ".ee-shut + ul {\n",
              "  display: none;\n",
              "}\n",
              "\n",
              ".ee-open + ul {\n",
              "  display: block;\n",
              "}\n",
              "\n",
              ".ee-shut::before {\n",
              "  display: inline-block;\n",
              "  content: \"▼\";\n",
              "  margin-right: 6px;\n",
              "  transform: rotate(-90deg);\n",
              "  transition: transform 0.2s;\n",
              "}\n",
              "\n",
              ".ee-open::before {\n",
              "  transform: rotate(0deg);\n",
              "  display: inline-block;\n",
              "  content: \"▼\";\n",
              "  margin-right: 6px;\n",
              "  transition: transform 0.2s;\n",
              "}\n",
              "</style><div class='ee'><ul><li><label class='ee-shut'>List (20 elements)<input type='checkbox' class='ee-toggle'></label><ul><li><span class='ee-k'>0:</span><span class='ee-v'>1</span></li><li><span class='ee-k'>1:</span><span class='ee-v'>2</span></li><li><span class='ee-k'>2:</span><span class='ee-v'>3</span></li><li><span class='ee-k'>3:</span><span class='ee-v'>4</span></li><li><span class='ee-k'>4:</span><span class='ee-v'>5</span></li><li><span class='ee-k'>5:</span><span class='ee-v'>6</span></li><li><span class='ee-k'>6:</span><span class='ee-v'>7</span></li><li><span class='ee-k'>7:</span><span class='ee-v'>8</span></li><li><span class='ee-k'>8:</span><span class='ee-v'>9</span></li><li><span class='ee-k'>9:</span><span class='ee-v'>10</span></li><li><span class='ee-k'>10:</span><span class='ee-v'>11</span></li><li><span class='ee-k'>11:</span><span class='ee-v'>12</span></li><li><span class='ee-k'>12:</span><span class='ee-v'>13</span></li><li><span class='ee-k'>13:</span><span class='ee-v'>14</span></li><li><span class='ee-k'>14:</span><span class='ee-v'>15</span></li><li><span class='ee-k'>15:</span><span class='ee-v'>16</span></li><li><span class='ee-k'>16:</span><span class='ee-v'>17</span></li><li><span class='ee-k'>17:</span><span class='ee-v'>18</span></li><li><span class='ee-k'>18:</span><span class='ee-v'>19</span></li><li><span class='ee-k'>19:</span><span class='ee-v'>20</span></li></ul></li></ul></div><script>function toggleHeader() {\n",
              "    const parent = this.parentElement;\n",
              "    parent.className = parent.className === \"ee-open\" ? \"ee-shut\" : \"ee-open\";\n",
              "}\n",
              "\n",
              "for (let c of document.getElementsByClassName(\"ee-toggle\")) {\n",
              "    c.onclick = toggleHeader;\n",
              "}</script></div>"
            ]
          },
          "metadata": {},
          "execution_count": 7
        }
      ],
      "source": [
        "myList = ee.List.sequence(1, 20)\n",
        "myList"
      ],
      "id": "xXbVAtkrHklL"
    },
    {
      "cell_type": "code",
      "execution_count": 10,
      "metadata": {
        "id": "y8Qm-qHWHklL",
        "outputId": "85421e1a-c4f8-42cb-facc-796ce6d8f121",
        "colab": {
          "base_uri": "https://localhost:8080/",
          "height": 68
        }
      },
      "outputs": [
        {
          "output_type": "execute_result",
          "data": {
            "text/plain": [
              "<ee.ee_list.List at 0x7f647e853460>"
            ],
            "text/html": [
              "<div><style>:root {\n",
              "  --font-color-primary: var(--jp-content-font-color0, rgba(0, 0, 0, 1));\n",
              "  --font-color-secondary: var(--jp-content-font-color2, rgba(0, 0, 0, 0.6));\n",
              "  --font-color-accent: rgba(123, 31, 162, 1);\n",
              "  --border-color: var(--jp-border-color2, #e0e0e0);\n",
              "  --background-color: var(--jp-layout-color0, white);\n",
              "  --background-color-row-even: var(--jp-layout-color1, white);\n",
              "  --background-color-row-odd: var(--jp-layout-color2, #eeeeee);\n",
              "}\n",
              "\n",
              "html[theme=\"dark\"],\n",
              "body[data-theme=\"dark\"],\n",
              "body.vscode-dark {\n",
              "  --font-color-primary: rgba(255, 255, 255, 1);\n",
              "  --font-color-secondary: rgba(255, 255, 255, 0.6);\n",
              "  --font-color-accent: rgb(173, 132, 190);\n",
              "  --border-color: #2e2e2e;\n",
              "  --background-color: #111111;\n",
              "  --background-color-row-even: #111111;\n",
              "  --background-color-row-odd: #313131;\n",
              "}\n",
              "\n",
              ".ee {\n",
              "  padding: 1em;\n",
              "  line-height: 1.5em;\n",
              "  min-width: 300px;\n",
              "  max-width: 1200px;\n",
              "  overflow-y: scroll;\n",
              "  max-height: 600px;\n",
              "  border: 1px solid var(--border-color);\n",
              "  font-family: monospace;\n",
              "}\n",
              "\n",
              ".ee li {\n",
              "  list-style-type: none;\n",
              "}\n",
              "\n",
              ".ee ul {\n",
              "  padding-left: 1.5em !important;\n",
              "  margin: 0;\n",
              "}\n",
              "\n",
              ".ee > ul {\n",
              "  padding-left: 0 !important;\n",
              "}\n",
              "\n",
              ".ee-open,\n",
              ".ee-shut {\n",
              "  color: var(--font-color-secondary);\n",
              "  cursor: pointer;\n",
              "  margin: 0;\n",
              "}\n",
              "\n",
              ".ee-open:hover,\n",
              ".ee-shut:hover {\n",
              "  color: var(--font-color-primary);\n",
              "}\n",
              "\n",
              ".ee-k {\n",
              "  color: var(--font-color-accent);\n",
              "  margin-right: 6px;\n",
              "}\n",
              "\n",
              ".ee-v {\n",
              "  color: var(--font-color-primary);\n",
              "}\n",
              "\n",
              ".ee-toggle {\n",
              "  display: none;\n",
              "}\n",
              "\n",
              ".ee-shut + ul {\n",
              "  display: none;\n",
              "}\n",
              "\n",
              ".ee-open + ul {\n",
              "  display: block;\n",
              "}\n",
              "\n",
              ".ee-shut::before {\n",
              "  display: inline-block;\n",
              "  content: \"▼\";\n",
              "  margin-right: 6px;\n",
              "  transform: rotate(-90deg);\n",
              "  transition: transform 0.2s;\n",
              "}\n",
              "\n",
              ".ee-open::before {\n",
              "  transform: rotate(0deg);\n",
              "  display: inline-block;\n",
              "  content: \"▼\";\n",
              "  margin-right: 6px;\n",
              "  transition: transform 0.2s;\n",
              "}\n",
              "</style><div class='ee'><ul><li><label class='ee-shut'>List (20 elements)<input type='checkbox' class='ee-toggle'></label><ul><li><span class='ee-k'>0:</span><span class='ee-v'>1</span></li><li><span class='ee-k'>1:</span><span class='ee-v'>4</span></li><li><span class='ee-k'>2:</span><span class='ee-v'>9</span></li><li><span class='ee-k'>3:</span><span class='ee-v'>16</span></li><li><span class='ee-k'>4:</span><span class='ee-v'>25</span></li><li><span class='ee-k'>5:</span><span class='ee-v'>36</span></li><li><span class='ee-k'>6:</span><span class='ee-v'>49</span></li><li><span class='ee-k'>7:</span><span class='ee-v'>64</span></li><li><span class='ee-k'>8:</span><span class='ee-v'>81</span></li><li><span class='ee-k'>9:</span><span class='ee-v'>100</span></li><li><span class='ee-k'>10:</span><span class='ee-v'>121</span></li><li><span class='ee-k'>11:</span><span class='ee-v'>144</span></li><li><span class='ee-k'>12:</span><span class='ee-v'>169</span></li><li><span class='ee-k'>13:</span><span class='ee-v'>196</span></li><li><span class='ee-k'>14:</span><span class='ee-v'>225</span></li><li><span class='ee-k'>15:</span><span class='ee-v'>256</span></li><li><span class='ee-k'>16:</span><span class='ee-v'>289</span></li><li><span class='ee-k'>17:</span><span class='ee-v'>324</span></li><li><span class='ee-k'>18:</span><span class='ee-v'>361</span></li><li><span class='ee-k'>19:</span><span class='ee-v'>400</span></li></ul></li></ul></div><script>function toggleHeader() {\n",
              "    const parent = this.parentElement;\n",
              "    parent.className = parent.className === \"ee-open\" ? \"ee-shut\" : \"ee-open\";\n",
              "}\n",
              "\n",
              "for (let c of document.getElementsByClassName(\"ee-toggle\")) {\n",
              "    c.onclick = toggleHeader;\n",
              "}</script></div>"
            ]
          },
          "metadata": {},
          "execution_count": 10
        }
      ],
      "source": [
        "def computeSquares(number):\n",
        "    return ee.Number(number).pow(2)\n",
        "\n",
        "\n",
        "squares = myList.map(computeSquares)\n",
        "squares"
      ],
      "id": "y8Qm-qHWHklL"
    },
    {
      "cell_type": "code",
      "execution_count": 11,
      "metadata": {
        "id": "w6ub2eFiHklL",
        "outputId": "7a033bb6-ac3d-4473-ce7d-540950338d93",
        "colab": {
          "base_uri": "https://localhost:8080/",
          "height": 68
        }
      },
      "outputs": [
        {
          "output_type": "execute_result",
          "data": {
            "text/plain": [
              "<ee.ee_list.List at 0x7f647e59b4c0>"
            ],
            "text/html": [
              "<div><style>:root {\n",
              "  --font-color-primary: var(--jp-content-font-color0, rgba(0, 0, 0, 1));\n",
              "  --font-color-secondary: var(--jp-content-font-color2, rgba(0, 0, 0, 0.6));\n",
              "  --font-color-accent: rgba(123, 31, 162, 1);\n",
              "  --border-color: var(--jp-border-color2, #e0e0e0);\n",
              "  --background-color: var(--jp-layout-color0, white);\n",
              "  --background-color-row-even: var(--jp-layout-color1, white);\n",
              "  --background-color-row-odd: var(--jp-layout-color2, #eeeeee);\n",
              "}\n",
              "\n",
              "html[theme=\"dark\"],\n",
              "body[data-theme=\"dark\"],\n",
              "body.vscode-dark {\n",
              "  --font-color-primary: rgba(255, 255, 255, 1);\n",
              "  --font-color-secondary: rgba(255, 255, 255, 0.6);\n",
              "  --font-color-accent: rgb(173, 132, 190);\n",
              "  --border-color: #2e2e2e;\n",
              "  --background-color: #111111;\n",
              "  --background-color-row-even: #111111;\n",
              "  --background-color-row-odd: #313131;\n",
              "}\n",
              "\n",
              ".ee {\n",
              "  padding: 1em;\n",
              "  line-height: 1.5em;\n",
              "  min-width: 300px;\n",
              "  max-width: 1200px;\n",
              "  overflow-y: scroll;\n",
              "  max-height: 600px;\n",
              "  border: 1px solid var(--border-color);\n",
              "  font-family: monospace;\n",
              "}\n",
              "\n",
              ".ee li {\n",
              "  list-style-type: none;\n",
              "}\n",
              "\n",
              ".ee ul {\n",
              "  padding-left: 1.5em !important;\n",
              "  margin: 0;\n",
              "}\n",
              "\n",
              ".ee > ul {\n",
              "  padding-left: 0 !important;\n",
              "}\n",
              "\n",
              ".ee-open,\n",
              ".ee-shut {\n",
              "  color: var(--font-color-secondary);\n",
              "  cursor: pointer;\n",
              "  margin: 0;\n",
              "}\n",
              "\n",
              ".ee-open:hover,\n",
              ".ee-shut:hover {\n",
              "  color: var(--font-color-primary);\n",
              "}\n",
              "\n",
              ".ee-k {\n",
              "  color: var(--font-color-accent);\n",
              "  margin-right: 6px;\n",
              "}\n",
              "\n",
              ".ee-v {\n",
              "  color: var(--font-color-primary);\n",
              "}\n",
              "\n",
              ".ee-toggle {\n",
              "  display: none;\n",
              "}\n",
              "\n",
              ".ee-shut + ul {\n",
              "  display: none;\n",
              "}\n",
              "\n",
              ".ee-open + ul {\n",
              "  display: block;\n",
              "}\n",
              "\n",
              ".ee-shut::before {\n",
              "  display: inline-block;\n",
              "  content: \"▼\";\n",
              "  margin-right: 6px;\n",
              "  transform: rotate(-90deg);\n",
              "  transition: transform 0.2s;\n",
              "}\n",
              "\n",
              ".ee-open::before {\n",
              "  transform: rotate(0deg);\n",
              "  display: inline-block;\n",
              "  content: \"▼\";\n",
              "  margin-right: 6px;\n",
              "  transition: transform 0.2s;\n",
              "}\n",
              "</style><div class='ee'><ul><li><label class='ee-shut'>List (20 elements)<input type='checkbox' class='ee-toggle'></label><ul><li><span class='ee-k'>0:</span><span class='ee-v'>1</span></li><li><span class='ee-k'>1:</span><span class='ee-v'>4</span></li><li><span class='ee-k'>2:</span><span class='ee-v'>9</span></li><li><span class='ee-k'>3:</span><span class='ee-v'>16</span></li><li><span class='ee-k'>4:</span><span class='ee-v'>25</span></li><li><span class='ee-k'>5:</span><span class='ee-v'>36</span></li><li><span class='ee-k'>6:</span><span class='ee-v'>49</span></li><li><span class='ee-k'>7:</span><span class='ee-v'>64</span></li><li><span class='ee-k'>8:</span><span class='ee-v'>81</span></li><li><span class='ee-k'>9:</span><span class='ee-v'>100</span></li><li><span class='ee-k'>10:</span><span class='ee-v'>121</span></li><li><span class='ee-k'>11:</span><span class='ee-v'>144</span></li><li><span class='ee-k'>12:</span><span class='ee-v'>169</span></li><li><span class='ee-k'>13:</span><span class='ee-v'>196</span></li><li><span class='ee-k'>14:</span><span class='ee-v'>225</span></li><li><span class='ee-k'>15:</span><span class='ee-v'>256</span></li><li><span class='ee-k'>16:</span><span class='ee-v'>289</span></li><li><span class='ee-k'>17:</span><span class='ee-v'>324</span></li><li><span class='ee-k'>18:</span><span class='ee-v'>361</span></li><li><span class='ee-k'>19:</span><span class='ee-v'>400</span></li></ul></li></ul></div><script>function toggleHeader() {\n",
              "    const parent = this.parentElement;\n",
              "    parent.className = parent.className === \"ee-open\" ? \"ee-shut\" : \"ee-open\";\n",
              "}\n",
              "\n",
              "for (let c of document.getElementsByClassName(\"ee-toggle\")) {\n",
              "    c.onclick = toggleHeader;\n",
              "}</script></div>"
            ]
          },
          "metadata": {},
          "execution_count": 11
        }
      ],
      "source": [
        "squares = myList.map(lambda number: ee.Number(number).pow(2))\n",
        "squares"
      ],
      "id": "w6ub2eFiHklL"
    },
    {
      "cell_type": "markdown",
      "metadata": {
        "id": "9lmLZbJhHklM"
      },
      "source": [
        "## Creating cloud-free composites"
      ],
      "id": "9lmLZbJhHklM"
    },
    {
      "cell_type": "code",
      "execution_count": 21,
      "metadata": {
        "id": "-kH9TZu4HklM",
        "outputId": "1c1316a8-7d2b-4c45-98da-ff381c26e824",
        "colab": {
          "base_uri": "https://localhost:8080/",
          "height": 621,
          "referenced_widgets": [
            "9fcf6684067f4dc79171ea6d3f0312e6",
            "66494ae61df14c269e4ac36213dea625",
            "914c0b768d9243a2849f954f138441be",
            "6f021f9c7aac4a80af4633b5400730a0",
            "75e9e0c87aef42cdbf2c416f7c6b245c",
            "4dcab9c655ad496291b9417c74074875",
            "4c1fa0582db243d0975325789ad2f676",
            "61d9edfd039e45248f4991d2bbcb20c7",
            "d066bd390e734c6bb5254680bff29866",
            "0273886e407e41288e553f4d61b05421",
            "545d64fa87d34eaf9742685679596116",
            "1ec3f32af2ca4eaeb68d78310b85907d",
            "b5f58d6525e64780a3e2b83c3b34e565",
            "6cf23d1064214afeb76a8a6eeac14240",
            "8b336cbdf3b44ffaa1bf8564945c83d9",
            "1a1f783912ea4fe6ad43ef5df8d715f4",
            "401770b7fd52481aa83aba131563f179",
            "75eaf80149f3451ea341eef50ad7b913",
            "fa332e261f7d43479299fcb1e87ede9e",
            "75fc639137bd4babb24a6c0eeae1c3ea",
            "675f341b65ce4838a869ec0744f78057",
            "c54eb329093b4e2ea608bd2be43af245",
            "3a069189b2694e0cb2cbd7681060d8ae",
            "255463ead4b948c2a62b7f9d3db97e6a",
            "355b102155634c1b8128c4bda9e500c8",
            "59ada996de5042ec9c6116f393aec361",
            "b82128b3c0144caba7689e6ff9762b54",
            "8d577d7151a3464396f36865719425fe",
            "41757306fc7f450c9bb3f81f3960f3fb",
            "58c73a5e21614851920a812483ea5da1",
            "c61fbb2d634a48bca6bf4409b6428353",
            "addfce3649124cf687da7c332dc73441",
            "09038e6f47394d8694866ccce5a115d6",
            "3a55d997718f412caf507ecadfdea487",
            "0ddaa575562749d6a19469ecb20a749f",
            "831e8bea60a3481882ab4a4724d92e2b"
          ]
        }
      },
      "outputs": [
        {
          "output_type": "display_data",
          "data": {
            "text/plain": [
              "Map(center=[20, 0], controls=(WidgetControl(options=['position', 'transparent_bg'], widget=HBox(children=(Togg…"
            ],
            "application/vnd.jupyter.widget-view+json": {
              "version_major": 2,
              "version_minor": 0,
              "model_id": "9fcf6684067f4dc79171ea6d3f0312e6"
            }
          },
          "metadata": {
            "application/vnd.jupyter.widget-view+json": {
              "colab": {
                "custom_widget_manager": {
                  "url": "https://ssl.gstatic.com/colaboratory-static/widgets/colab-cdn-widget-manager/b3e629b1971e1542/manager.min.js"
                }
              }
            }
          }
        }
      ],
      "source": [
        "Map = geemap.Map()\n",
        "fc = ee.FeatureCollection('projects/ee-subhamnanda700/assets/terai_duar')\n",
        "\n",
        "Map.addLayer(fc, {'color': 'ff69b4', 'width': 1}, \"India\")\n",
        "Map.centerObject(fc)\n",
        "Map"
      ],
      "id": "-kH9TZu4HklM"
    },
    {
      "cell_type": "code",
      "execution_count": 16,
      "metadata": {
        "id": "czJBYPnwHklM"
      },
      "outputs": [],
      "source": [
        "years = ee.List.sequence(2009, 2021)"
      ],
      "id": "czJBYPnwHklM"
    },
    {
      "cell_type": "code",
      "execution_count": 22,
      "metadata": {
        "id": "vNsLC9WwHklM"
      },
      "outputs": [],
      "source": [
        "def yearly_image(year):\n",
        "\n",
        "    start_date = ee.Date.fromYMD(year, 1, 1)\n",
        "    end_date = start_date.advance(1, \"year\")\n",
        "\n",
        "    collection = (\n",
        "        ee.ImageCollection(\"LANDSAT/LC08/C02/T1\")\n",
        "        .filterDate(start_date, end_date)\n",
        "        .filterBounds(fc)\n",
        "    )\n",
        "\n",
        "    image = ee.Algorithms.Landsat.simpleComposite(collection).clipToCollection(fc)\n",
        "\n",
        "    return image"
      ],
      "id": "vNsLC9WwHklM"
    },
    {
      "cell_type": "code",
      "execution_count": 23,
      "metadata": {
        "id": "QJBngwEKHklN"
      },
      "outputs": [],
      "source": [
        "images = years.map(yearly_image)"
      ],
      "id": "QJBngwEKHklN"
    },
    {
      "cell_type": "code",
      "execution_count": 24,
      "metadata": {
        "id": "3xLM2WUsHklN",
        "outputId": "752ecda4-20df-45e9-819f-489877fb8ba4",
        "colab": {
          "base_uri": "https://localhost:8080/",
          "height": 621,
          "referenced_widgets": [
            "9fcf6684067f4dc79171ea6d3f0312e6",
            "66494ae61df14c269e4ac36213dea625",
            "914c0b768d9243a2849f954f138441be",
            "6f021f9c7aac4a80af4633b5400730a0",
            "75e9e0c87aef42cdbf2c416f7c6b245c",
            "4dcab9c655ad496291b9417c74074875",
            "4c1fa0582db243d0975325789ad2f676",
            "61d9edfd039e45248f4991d2bbcb20c7",
            "d066bd390e734c6bb5254680bff29866",
            "0273886e407e41288e553f4d61b05421",
            "545d64fa87d34eaf9742685679596116",
            "1ec3f32af2ca4eaeb68d78310b85907d",
            "b5f58d6525e64780a3e2b83c3b34e565",
            "6cf23d1064214afeb76a8a6eeac14240",
            "b82128b3c0144caba7689e6ff9762b54",
            "8d577d7151a3464396f36865719425fe",
            "41757306fc7f450c9bb3f81f3960f3fb",
            "58c73a5e21614851920a812483ea5da1",
            "c61fbb2d634a48bca6bf4409b6428353",
            "addfce3649124cf687da7c332dc73441",
            "09038e6f47394d8694866ccce5a115d6",
            "3a55d997718f412caf507ecadfdea487",
            "0ddaa575562749d6a19469ecb20a749f",
            "831e8bea60a3481882ab4a4724d92e2b",
            "8b336cbdf3b44ffaa1bf8564945c83d9",
            "401770b7fd52481aa83aba131563f179",
            "75eaf80149f3451ea341eef50ad7b913",
            "fa332e261f7d43479299fcb1e87ede9e",
            "75fc639137bd4babb24a6c0eeae1c3ea",
            "675f341b65ce4838a869ec0744f78057",
            "c54eb329093b4e2ea608bd2be43af245",
            "3a069189b2694e0cb2cbd7681060d8ae",
            "255463ead4b948c2a62b7f9d3db97e6a",
            "355b102155634c1b8128c4bda9e500c8",
            "59ada996de5042ec9c6116f393aec361"
          ]
        }
      },
      "outputs": [
        {
          "output_type": "display_data",
          "data": {
            "text/plain": [
              "Map(bottom=14021.0, center=[28.062285999812186, 85.462646484375], controls=(WidgetControl(options=['position',…"
            ],
            "application/vnd.jupyter.widget-view+json": {
              "version_major": 2,
              "version_minor": 0,
              "model_id": "9fcf6684067f4dc79171ea6d3f0312e6"
            }
          },
          "metadata": {
            "application/vnd.jupyter.widget-view+json": {
              "colab": {
                "custom_widget_manager": {
                  "url": "https://ssl.gstatic.com/colaboratory-static/widgets/colab-cdn-widget-manager/b3e629b1971e1542/manager.min.js"
                }
              }
            }
          }
        }
      ],
      "source": [
        "vis_params = {'bands': ['B4', 'B3', 'B2'], 'max': 128}\n",
        "for index in range(0, 10):\n",
        "    image = ee.Image(images.get(index))\n",
        "    layer_name = \"Year \" + str(index + 2009)\n",
        "    Map.addLayer(image, vis_params, layer_name)\n",
        "Map"
      ],
      "id": "3xLM2WUsHklN"
    },
    {
      "cell_type": "markdown",
      "metadata": {
        "id": "D90xBbfvHklN"
      },
      "source": [
        "## Creating timeseries"
      ],
      "id": "D90xBbfvHklN"
    },
    {
      "cell_type": "code",
      "execution_count": null,
      "metadata": {
        "id": "UH5aKPmAHklN"
      },
      "outputs": [],
      "source": [
        "collection = ee.ImageCollection(\"COPERNICUS/S2_HARMONIZED\").filterMetadata(\n",
        "    'CLOUDY_PIXEL_PERCENTAGE', 'less_than', 10\n",
        ")"
      ],
      "id": "UH5aKPmAHklN"
    },
    {
      "cell_type": "code",
      "execution_count": null,
      "metadata": {
        "id": "hD9NOX5THklN"
      },
      "outputs": [],
      "source": [
        "start_date = '2016-01-01'\n",
        "end_date = '2022-12-31'\n",
        "region = ee.Geometry.BBox(-122.5549, 37.6968, -122.3446, 37.8111)"
      ],
      "id": "hD9NOX5THklN"
    },
    {
      "cell_type": "code",
      "execution_count": null,
      "metadata": {
        "id": "aTgJ4J_PHklO"
      },
      "outputs": [],
      "source": [
        "images = geemap.create_timeseries(\n",
        "    collection, start_date, end_date, region, frequency='year', reducer='median'\n",
        ")\n",
        "images"
      ],
      "id": "aTgJ4J_PHklO"
    },
    {
      "cell_type": "code",
      "execution_count": null,
      "metadata": {
        "id": "pU5V0ec6HklO"
      },
      "outputs": [],
      "source": [
        "Map = geemap.Map()\n",
        "\n",
        "vis_params = {\"min\": 0, \"max\": 4000, \"bands\": [\"B8\", \"B4\", \"B3\"]}\n",
        "labels = [str(y) for y in range(2016, 2023)]\n",
        "\n",
        "Map.addLayer(images, vis_params, \"Sentinel-2\", False)\n",
        "Map.add_time_slider(images, vis_params, time_interval=2, labels=labels)\n",
        "Map.centerObject(region)\n",
        "Map"
      ],
      "id": "pU5V0ec6HklO"
    },
    {
      "cell_type": "markdown",
      "metadata": {
        "id": "ax3thhBDHklO"
      },
      "source": [
        "## NAIP timelapse"
      ],
      "id": "ax3thhBDHklO"
    },
    {
      "cell_type": "code",
      "execution_count": null,
      "metadata": {
        "id": "cZDWGueKHklO"
      },
      "outputs": [],
      "source": [
        "Map = geemap.Map(center=[40, -100], zoom=4)\n",
        "Map"
      ],
      "id": "cZDWGueKHklO"
    },
    {
      "cell_type": "code",
      "execution_count": null,
      "metadata": {
        "id": "rHBqy-KHHklO"
      },
      "outputs": [],
      "source": [
        "roi = Map.user_roi\n",
        "if roi is None:\n",
        "    roi = ee.Geometry.BBox(-99.1019, 47.1274, -99.0334, 47.1562)\n",
        "    Map.addLayer(roi)\n",
        "    Map.centerObject(roi)"
      ],
      "id": "rHBqy-KHHklO"
    },
    {
      "cell_type": "code",
      "execution_count": null,
      "metadata": {
        "id": "zDdscPa9HklO"
      },
      "outputs": [],
      "source": [
        "collection = geemap.naip_timeseries(roi, start_year=2009, end_year=2022, RGBN=True)"
      ],
      "id": "zDdscPa9HklO"
    },
    {
      "cell_type": "code",
      "execution_count": null,
      "metadata": {
        "id": "zxmkzdC2HklO"
      },
      "outputs": [],
      "source": [
        "years = geemap.image_dates(collection, date_format='YYYY').getInfo()\n",
        "print(years)"
      ],
      "id": "zxmkzdC2HklO"
    },
    {
      "cell_type": "code",
      "execution_count": null,
      "metadata": {
        "id": "pCTZaN7eHklP"
      },
      "outputs": [],
      "source": [
        "size = len(years)\n",
        "images = collection.toList(size)\n",
        "for i in range(size):\n",
        "    image = ee.Image(images.get(i))\n",
        "    Map.addLayer(image, {'bands': ['N', 'R', 'G']}, years[i])\n",
        "Map"
      ],
      "id": "pCTZaN7eHklP"
    },
    {
      "cell_type": "code",
      "execution_count": null,
      "metadata": {
        "id": "aiALislhHklP"
      },
      "outputs": [],
      "source": [
        "timelapse = geemap.naip_timelapse(\n",
        "    roi,\n",
        "    out_gif=\"naip.gif\",\n",
        "    bands=['N', 'R', 'G'],\n",
        "    frames_per_second=3,\n",
        "    title='NAIP Timelapse',\n",
        ")\n",
        "geemap.show_image(timelapse)"
      ],
      "id": "aiALislhHklP"
    },
    {
      "cell_type": "markdown",
      "metadata": {
        "id": "2Aim3rHBHklP"
      },
      "source": [
        "## Landsat timelapse"
      ],
      "id": "2Aim3rHBHklP"
    },
    {
      "cell_type": "code",
      "execution_count": null,
      "metadata": {
        "id": "kcnzoUgsHklP"
      },
      "outputs": [],
      "source": [
        "Map = geemap.Map()\n",
        "Map"
      ],
      "id": "kcnzoUgsHklP"
    },
    {
      "cell_type": "code",
      "execution_count": null,
      "metadata": {
        "id": "BolvwNvkHklP"
      },
      "outputs": [],
      "source": [
        "roi = Map.user_roi\n",
        "if roi is None:\n",
        "    roi = ee.Geometry.BBox(-74.7222, -8.5867, -74.1596, -8.2824)\n",
        "    Map.addLayer(roi)\n",
        "    Map.centerObject(roi)"
      ],
      "id": "BolvwNvkHklP"
    },
    {
      "cell_type": "code",
      "execution_count": null,
      "metadata": {
        "id": "o10juDgfHklP"
      },
      "outputs": [],
      "source": [
        "timelapse = geemap.landsat_timelapse(\n",
        "    roi,\n",
        "    out_gif='landsat.gif',\n",
        "    start_year=1984,\n",
        "    end_year=2022,\n",
        "    start_date='01-01',\n",
        "    end_date='12-31',\n",
        "    bands=['SWIR1', 'NIR', 'Red'],\n",
        "    frames_per_second=5,\n",
        "    title='Landsat Timelapse',\n",
        "    progress_bar_color='blue',\n",
        "    mp4=True,\n",
        ")\n",
        "geemap.show_image(timelapse)"
      ],
      "id": "o10juDgfHklP"
    },
    {
      "cell_type": "code",
      "execution_count": null,
      "metadata": {
        "id": "GEYwG7etHklQ"
      },
      "outputs": [],
      "source": [
        "Map = geemap.Map()\n",
        "roi = ee.Geometry.BBox(-115.5541, 35.8044, -113.9035, 36.5581)\n",
        "Map.addLayer(roi)\n",
        "Map.centerObject(roi)\n",
        "Map"
      ],
      "id": "GEYwG7etHklQ"
    },
    {
      "cell_type": "code",
      "execution_count": null,
      "metadata": {
        "id": "qKxq7ZnIHklQ"
      },
      "outputs": [],
      "source": [
        "timelapse = geemap.landsat_timelapse(\n",
        "    roi,\n",
        "    out_gif='las_vegas.gif',\n",
        "    start_year=1984,\n",
        "    end_year=2022,\n",
        "    bands=['NIR', 'Red', 'Green'],\n",
        "    frames_per_second=5,\n",
        "    title='Las Vegas, NV',\n",
        "    font_color='blue',\n",
        ")\n",
        "geemap.show_image(timelapse)"
      ],
      "id": "qKxq7ZnIHklQ"
    },
    {
      "cell_type": "code",
      "execution_count": null,
      "metadata": {
        "id": "xr38T_0MHklQ"
      },
      "outputs": [],
      "source": [
        "Map = geemap.Map()\n",
        "roi = ee.Geometry.BBox(113.8252, 22.1988, 114.0851, 22.3497)\n",
        "Map.addLayer(roi)\n",
        "Map.centerObject(roi)\n",
        "Map"
      ],
      "id": "xr38T_0MHklQ"
    },
    {
      "cell_type": "code",
      "execution_count": null,
      "metadata": {
        "id": "-3p13UsHHklQ"
      },
      "outputs": [],
      "source": [
        "timelapse = geemap.landsat_timelapse(\n",
        "    roi,\n",
        "    out_gif='hong_kong.gif',\n",
        "    start_year=1990,\n",
        "    end_year=2022,\n",
        "    start_date='01-01',\n",
        "    end_date='12-31',\n",
        "    bands=['SWIR1', 'NIR', 'Red'],\n",
        "    frames_per_second=3,\n",
        "    title='Hong Kong',\n",
        ")\n",
        "geemap.show_image(timelapse)"
      ],
      "id": "-3p13UsHHklQ"
    },
    {
      "cell_type": "markdown",
      "metadata": {
        "id": "iqkgEug-HklQ"
      },
      "source": [
        "## Sentinel-1 timelapse"
      ],
      "id": "iqkgEug-HklQ"
    },
    {
      "cell_type": "code",
      "execution_count": null,
      "metadata": {
        "id": "2qvOFcHsHklQ"
      },
      "outputs": [],
      "source": [
        "Map = geemap.Map()\n",
        "Map"
      ],
      "id": "2qvOFcHsHklQ"
    },
    {
      "cell_type": "code",
      "execution_count": null,
      "metadata": {
        "id": "_ovNNdyzHklQ"
      },
      "outputs": [],
      "source": [
        "roi = Map.user_roi\n",
        "if roi is None:\n",
        "    roi = ee.Geometry.BBox(117.1132, 3.5227, 117.2214, 3.5843)\n",
        "    Map.addLayer(roi)\n",
        "    Map.centerObject(roi)"
      ],
      "id": "_ovNNdyzHklQ"
    },
    {
      "cell_type": "code",
      "execution_count": null,
      "metadata": {
        "id": "weTqElXHHklR"
      },
      "outputs": [],
      "source": [
        "timelapse = geemap.sentinel1_timelapse(\n",
        "    roi,\n",
        "    out_gif='sentinel1.gif',\n",
        "    start_year=2019,\n",
        "    end_year=2019,\n",
        "    start_date='04-01',\n",
        "    end_date='08-01',\n",
        "    bands=['VV'],\n",
        "    frequency='day',\n",
        "    vis_params={\"min\": -30, \"max\": 0},\n",
        "    palette=\"Greys\",\n",
        "    frames_per_second=3,\n",
        "    title='Sentinel-1 Timelapse',\n",
        "    add_colorbar=True,\n",
        "    colorbar_bg_color='gray',\n",
        ")\n",
        "geemap.show_image(timelapse)"
      ],
      "id": "weTqElXHHklR"
    },
    {
      "cell_type": "markdown",
      "metadata": {
        "id": "hJ0w0lRqHklR"
      },
      "source": [
        "## Sentinel-2 timelapse"
      ],
      "id": "hJ0w0lRqHklR"
    },
    {
      "cell_type": "code",
      "execution_count": null,
      "metadata": {
        "id": "ABx09etgHklR"
      },
      "outputs": [],
      "source": [
        "Map = geemap.Map()\n",
        "Map"
      ],
      "id": "ABx09etgHklR"
    },
    {
      "cell_type": "code",
      "execution_count": null,
      "metadata": {
        "id": "ndvLViGbHklR"
      },
      "outputs": [],
      "source": [
        "roi = Map.user_roi\n",
        "if roi is None:\n",
        "    roi = ee.Geometry.BBox(-74.7222, -8.5867, -74.1596, -8.2824)\n",
        "    Map.addLayer(roi)\n",
        "    Map.centerObject(roi)"
      ],
      "id": "ndvLViGbHklR"
    },
    {
      "cell_type": "code",
      "execution_count": null,
      "metadata": {
        "id": "6PKtq_vnHklR"
      },
      "outputs": [],
      "source": [
        "timelapse = geemap.sentinel2_timelapse(\n",
        "    roi,\n",
        "    out_gif='sentinel2.gif',\n",
        "    start_year=2016,\n",
        "    end_year=2021,\n",
        "    start_date='01-01',\n",
        "    end_date='12-31',\n",
        "    frequency='year',\n",
        "    bands=['SWIR1', 'NIR', 'Red'],\n",
        "    frames_per_second=3,\n",
        "    title='Sentinel-2 Timelapse',\n",
        ")\n",
        "geemap.show_image(timelapse)"
      ],
      "id": "6PKtq_vnHklR"
    },
    {
      "cell_type": "markdown",
      "metadata": {
        "id": "yD_kZ5J8HklR"
      },
      "source": [
        "## MODIS timelapse\n",
        "\n",
        "### MODIS vegetation indices"
      ],
      "id": "yD_kZ5J8HklR"
    },
    {
      "cell_type": "code",
      "execution_count": null,
      "metadata": {
        "id": "450xnpQtHklR"
      },
      "outputs": [],
      "source": [
        "Map = geemap.Map()\n",
        "Map"
      ],
      "id": "450xnpQtHklR"
    },
    {
      "cell_type": "code",
      "execution_count": null,
      "metadata": {
        "id": "mpAbloTcHklR"
      },
      "outputs": [],
      "source": [
        "roi = Map.user_roi\n",
        "if roi is None:\n",
        "    roi = ee.Geometry.BBox(-18.6983, -36.1630, 52.2293, 38.1446)\n",
        "    Map.addLayer(roi)\n",
        "    Map.centerObject(roi)"
      ],
      "id": "mpAbloTcHklR"
    },
    {
      "cell_type": "code",
      "execution_count": null,
      "metadata": {
        "id": "_KOPQcA_HklS"
      },
      "outputs": [],
      "source": [
        "timelapse = geemap.modis_ndvi_timelapse(\n",
        "    roi,\n",
        "    out_gif='ndvi.gif',\n",
        "    data='Terra',\n",
        "    band='NDVI',\n",
        "    start_date='2000-01-01',\n",
        "    end_date='2022-12-31',\n",
        "    frames_per_second=3,\n",
        "    title='MODIS NDVI Timelapse',\n",
        "    overlay_data='countries',\n",
        ")\n",
        "geemap.show_image(timelapse)"
      ],
      "id": "_KOPQcA_HklS"
    },
    {
      "cell_type": "markdown",
      "metadata": {
        "id": "8b6M8ZmxHklS"
      },
      "source": [
        "### MODIS temperature"
      ],
      "id": "8b6M8ZmxHklS"
    },
    {
      "cell_type": "code",
      "execution_count": null,
      "metadata": {
        "id": "XuViryaBHklS"
      },
      "outputs": [],
      "source": [
        "Map = geemap.Map()\n",
        "Map"
      ],
      "id": "XuViryaBHklS"
    },
    {
      "cell_type": "code",
      "execution_count": null,
      "metadata": {
        "id": "yV3bUPTNHklS"
      },
      "outputs": [],
      "source": [
        "roi = Map.user_roi\n",
        "if roi is None:\n",
        "    roi = ee.Geometry.BBox(-171.21, -57.13, 177.53, 79.99)\n",
        "    Map.addLayer(roi)\n",
        "    Map.centerObject(roi)"
      ],
      "id": "yV3bUPTNHklS"
    },
    {
      "cell_type": "code",
      "execution_count": null,
      "metadata": {
        "id": "iZ3iIXtQHklS"
      },
      "outputs": [],
      "source": [
        "timelapse = geemap.modis_ocean_color_timelapse(\n",
        "    satellite='Aqua',\n",
        "    start_date='2018-01-01',\n",
        "    end_date='2020-12-31',\n",
        "    roi=roi,\n",
        "    frequency='month',\n",
        "    out_gif='temperature.gif',\n",
        "    overlay_data='continents',\n",
        "    overlay_color='yellow',\n",
        "    overlay_opacity=0.5,\n",
        ")\n",
        "geemap.show_image(timelapse)"
      ],
      "id": "iZ3iIXtQHklS"
    },
    {
      "cell_type": "markdown",
      "metadata": {
        "id": "6DiYAQ5IHklS"
      },
      "source": [
        "## GOES timelapse"
      ],
      "id": "6DiYAQ5IHklS"
    },
    {
      "cell_type": "code",
      "execution_count": null,
      "metadata": {
        "id": "fKvWP6y7HklS"
      },
      "outputs": [],
      "source": [
        "roi = ee.Geometry.BBox(167.1898, -28.5757, 202.6258, -12.4411)\n",
        "start_date = \"2022-01-15T03:00:00\"\n",
        "end_date = \"2022-01-15T07:00:00\"\n",
        "data = \"GOES-17\"\n",
        "scan = \"full_disk\""
      ],
      "id": "fKvWP6y7HklS"
    },
    {
      "cell_type": "code",
      "execution_count": null,
      "metadata": {
        "id": "16jqpIS-HklS"
      },
      "outputs": [],
      "source": [
        "timelapse = geemap.goes_timelapse(\n",
        "    roi, \"goes.gif\", start_date, end_date, data, scan, framesPerSecond=5\n",
        ")\n",
        "geemap.show_image(timelapse)"
      ],
      "id": "16jqpIS-HklS"
    },
    {
      "cell_type": "code",
      "execution_count": null,
      "metadata": {
        "id": "MJRWoltuHklS"
      },
      "outputs": [],
      "source": [
        "roi = ee.Geometry.BBox(-159.5954, 24.5178, -114.2438, 60.4088)\n",
        "start_date = \"2021-10-24T14:00:00\"\n",
        "end_date = \"2021-10-25T01:00:00\"\n",
        "data = \"GOES-17\"\n",
        "scan = \"full_disk\""
      ],
      "id": "MJRWoltuHklS"
    },
    {
      "cell_type": "code",
      "execution_count": null,
      "metadata": {
        "id": "C2JeMSuEHklS"
      },
      "outputs": [],
      "source": [
        "timelapse = geemap.goes_timelapse(\n",
        "    roi, \"hurricane.gif\", start_date, end_date, data, scan, framesPerSecond=5\n",
        ")\n",
        "geemap.show_image(timelapse)"
      ],
      "id": "C2JeMSuEHklS"
    },
    {
      "cell_type": "code",
      "execution_count": null,
      "metadata": {
        "id": "ovez47lNHklT"
      },
      "outputs": [],
      "source": [
        "roi = ee.Geometry.BBox(-121.0034, 36.8488, -117.9052, 39.0490)\n",
        "start_date = \"2020-09-05T15:00:00\"\n",
        "end_date = \"2020-09-06T02:00:00\"\n",
        "data = \"GOES-17\"\n",
        "scan = \"full_disk\""
      ],
      "id": "ovez47lNHklT"
    },
    {
      "cell_type": "code",
      "execution_count": null,
      "metadata": {
        "id": "rni3PJC3HklT"
      },
      "outputs": [],
      "source": [
        "timelapse = geemap.goes_fire_timelapse(\n",
        "    roi, \"fire.gif\", start_date, end_date, data, scan, framesPerSecond=5\n",
        ")\n",
        "geemap.show_image(timelapse)"
      ],
      "id": "rni3PJC3HklT"
    },
    {
      "cell_type": "markdown",
      "metadata": {
        "id": "s-RpcEqkHklT"
      },
      "source": [
        "## Fading effects"
      ],
      "id": "s-RpcEqkHklT"
    },
    {
      "cell_type": "code",
      "execution_count": null,
      "metadata": {
        "id": "iebA-C08HklT"
      },
      "outputs": [],
      "source": [
        "in_gif = \"https://i.imgur.com/ZWSZC5z.gif\"\n",
        "geemap.show_image(in_gif)"
      ],
      "id": "iebA-C08HklT"
    },
    {
      "cell_type": "code",
      "execution_count": null,
      "metadata": {
        "id": "sYW_rlY2HklT"
      },
      "outputs": [],
      "source": [
        "out_gif = \"gif_fading.gif\"\n",
        "geemap.gif_fading(in_gif, out_gif, verbose=False)\n",
        "geemap.show_image(out_gif)"
      ],
      "id": "sYW_rlY2HklT"
    },
    {
      "cell_type": "code",
      "execution_count": null,
      "metadata": {
        "id": "E2eZwnJ4HklT"
      },
      "outputs": [],
      "source": [
        "roi = ee.Geometry.BBox(-69.3154, -22.8371, -69.1900, -22.7614)\n",
        "timelapse = geemap.landsat_timelapse(\n",
        "    roi,\n",
        "    out_gif='mines.gif',\n",
        "    start_year=2004,\n",
        "    end_year=2010,\n",
        "    frames_per_second=1,\n",
        "    title='Copper mines, Chile',\n",
        "    fading=True,\n",
        ")\n",
        "geemap.show_image(timelapse)"
      ],
      "id": "E2eZwnJ4HklT"
    },
    {
      "cell_type": "markdown",
      "metadata": {
        "id": "Xy6-1nHmHklT"
      },
      "source": [
        "## Adding text to timelapse"
      ],
      "id": "Xy6-1nHmHklT"
    },
    {
      "cell_type": "code",
      "execution_count": null,
      "metadata": {
        "id": "xnhqw05QHklT"
      },
      "outputs": [],
      "source": [
        "url = 'https://i.imgur.com/Rx0wjSw.gif'\n",
        "in_gif = 'animation.gif'\n",
        "geemap.download_file(url, in_gif)\n",
        "geemap.show_image(in_gif)"
      ],
      "id": "xnhqw05QHklT"
    },
    {
      "cell_type": "code",
      "execution_count": null,
      "metadata": {
        "id": "9rbIEHB-HklT"
      },
      "outputs": [],
      "source": [
        "out_gif = 'las_vegas.gif'\n",
        "geemap.add_text_to_gif(\n",
        "    in_gif,\n",
        "    out_gif,\n",
        "    xy=('3%', '5%'),\n",
        "    text_sequence=1984,\n",
        "    font_size=30,\n",
        "    font_color='#0000ff',\n",
        "    add_progress_bar=True,\n",
        "    progress_bar_color='#ffffff',\n",
        "    progress_bar_height=5,\n",
        "    duration=100,\n",
        "    loop=0,\n",
        ")\n",
        "geemap.show_image(out_gif)"
      ],
      "id": "9rbIEHB-HklT"
    },
    {
      "cell_type": "code",
      "execution_count": null,
      "metadata": {
        "id": "0wT-ASipHklU"
      },
      "outputs": [],
      "source": [
        "geemap.add_text_to_gif(\n",
        "    out_gif, out_gif, xy=('45%', '90%'), text_sequence=\"Las Vegas\", font_color='black'\n",
        ")\n",
        "geemap.show_image(out_gif)"
      ],
      "id": "0wT-ASipHklU"
    },
    {
      "cell_type": "markdown",
      "metadata": {
        "id": "elDAFADNHklU"
      },
      "source": [
        "## Adding image and colorbar to timelapse\n",
        "\n",
        "### Preparing data"
      ],
      "id": "elDAFADNHklU"
    },
    {
      "cell_type": "code",
      "execution_count": null,
      "metadata": {
        "id": "A_lfXceEHklU"
      },
      "outputs": [],
      "source": [
        "aoi = ee.Geometry.Polygon(\n",
        "    [[[-179.0, 78.0], [-179.0, -58.0], [179.0, -58.0], [179.0, 78.0]]], None, False\n",
        ")\n",
        "\n",
        "collection = (\n",
        "    ee.ImageCollection('NOAA/GFS0P25')\n",
        "    .filterDate('2018-12-22', '2018-12-23')\n",
        "    .limit(24)\n",
        "    .select('temperature_2m_above_ground')\n",
        ")\n",
        "\n",
        "video_args = {\n",
        "    'dimensions': 768,\n",
        "    'region': aoi,\n",
        "    'framesPerSecond': 10,\n",
        "    'crs': 'EPSG:3857',\n",
        "    'min': -35.0,\n",
        "    'max': 35.0,\n",
        "    'palette': ['blue', 'purple', 'cyan', 'green', 'yellow', 'red'],\n",
        "}\n",
        "\n",
        "saved_gif = 'temperature.gif'\n",
        "geemap.download_ee_video(collection, video_args, saved_gif)\n",
        "geemap.show_image(saved_gif)"
      ],
      "id": "A_lfXceEHklU"
    },
    {
      "cell_type": "markdown",
      "metadata": {
        "id": "ottdNiLPHklU"
      },
      "source": [
        "### Adding animated text"
      ],
      "id": "ottdNiLPHklU"
    },
    {
      "cell_type": "code",
      "execution_count": null,
      "metadata": {
        "id": "gp2RY5NgHklU"
      },
      "outputs": [],
      "source": [
        "text = [str(n).zfill(2) + \":00\" for n in range(0, 24)]\n",
        "out_gif = 'temperature_v2.gif'\n",
        "geemap.add_text_to_gif(\n",
        "    saved_gif,\n",
        "    out_gif,\n",
        "    xy=('3%', '5%'),\n",
        "    text_sequence=text,\n",
        "    font_size=30,\n",
        "    font_color='#ffffff',\n",
        ")\n",
        "\n",
        "geemap.add_text_to_gif(\n",
        "    out_gif,\n",
        "    out_gif,\n",
        "    xy=('32%', '92%'),\n",
        "    text_sequence='NOAA GFS Hourly Temperature',\n",
        "    font_color='white',\n",
        ")\n",
        "geemap.show_image(out_gif)"
      ],
      "id": "gp2RY5NgHklU"
    },
    {
      "cell_type": "markdown",
      "metadata": {
        "id": "y4VWWE-oHklU"
      },
      "source": [
        "### Adding logo"
      ],
      "id": "y4VWWE-oHklU"
    },
    {
      "cell_type": "code",
      "execution_count": null,
      "metadata": {
        "id": "kfb5alLjHklU"
      },
      "outputs": [],
      "source": [
        "noaa_logo = 'https://bit.ly/3ahJoMq'\n",
        "ee_logo = 'https://i.imgur.com/Qbvacvm.jpg'\n",
        "\n",
        "geemap.add_image_to_gif(\n",
        "    out_gif, out_gif, in_image=noaa_logo, xy=('2%', '80%'), image_size=(80, 80)\n",
        ")\n",
        "\n",
        "geemap.add_image_to_gif(\n",
        "    out_gif, out_gif, in_image=ee_logo, xy=('13%', '79%'), image_size=(85, 85)\n",
        ")"
      ],
      "id": "kfb5alLjHklU"
    },
    {
      "cell_type": "markdown",
      "metadata": {
        "id": "dp13V_0YHklU"
      },
      "source": [
        "### Adding colorbar"
      ],
      "id": "dp13V_0YHklU"
    },
    {
      "cell_type": "code",
      "execution_count": null,
      "metadata": {
        "id": "6RBIq7IGHklU"
      },
      "outputs": [],
      "source": [
        "palette = ['blue', 'purple', 'cyan', 'green', 'yellow', 'red']\n",
        "colorbar = geemap.save_colorbar(width=2.5, height=0.3, vmin=-35, vmax=35, palette=palette, transparent=True)\n",
        "geemap.show_image(colorbar)"
      ],
      "id": "6RBIq7IGHklU"
    },
    {
      "cell_type": "code",
      "execution_count": null,
      "metadata": {
        "id": "xsSts9WkHklU"
      },
      "outputs": [],
      "source": [
        "geemap.add_image_to_gif(\n",
        "    out_gif, out_gif, in_image=colorbar, xy=('72%', '85%'), image_size=(250, 250)\n",
        ")\n",
        "geemap.show_image(out_gif)"
      ],
      "id": "xsSts9WkHklU"
    },
    {
      "cell_type": "markdown",
      "metadata": {
        "id": "RY3B1vRpHklV"
      },
      "source": [
        "## Summary"
      ],
      "id": "RY3B1vRpHklV"
    }
  ],
  "metadata": {
    "kernelspec": {
      "display_name": "geo",
      "language": "python",
      "name": "python3"
    },
    "colab": {
      "provenance": [],
      "include_colab_link": true
    },
    "widgets": {
      "application/vnd.jupyter.widget-state+json": {
        "9fcf6684067f4dc79171ea6d3f0312e6": {
          "model_module": "jupyter-leaflet",
          "model_name": "LeafletMapModel",
          "model_module_version": "^0.17",
          "state": {
            "_dom_classes": [],
            "_model_module": "jupyter-leaflet",
            "_model_module_version": "^0.17",
            "_model_name": "LeafletMapModel",
            "_view_count": null,
            "_view_module": "jupyter-leaflet",
            "_view_module_version": "^0.17",
            "_view_name": "LeafletMapView",
            "bottom": 27802,
            "bounce_at_zoom_limits": true,
            "box_zoom": true,
            "center": [
              27.771051193172273,
              84.03442382812501
            ],
            "close_popup_on_click": true,
            "controls": [
              "IPY_MODEL_66494ae61df14c269e4ac36213dea625",
              "IPY_MODEL_914c0b768d9243a2849f954f138441be",
              "IPY_MODEL_6f021f9c7aac4a80af4633b5400730a0",
              "IPY_MODEL_75e9e0c87aef42cdbf2c416f7c6b245c",
              "IPY_MODEL_4dcab9c655ad496291b9417c74074875",
              "IPY_MODEL_4c1fa0582db243d0975325789ad2f676",
              "IPY_MODEL_61d9edfd039e45248f4991d2bbcb20c7",
              "IPY_MODEL_d066bd390e734c6bb5254680bff29866"
            ],
            "crs": {
              "name": "EPSG3857",
              "custom": false
            },
            "default_style": "IPY_MODEL_0273886e407e41288e553f4d61b05421",
            "double_click_zoom": true,
            "dragging": true,
            "dragging_style": "IPY_MODEL_545d64fa87d34eaf9742685679596116",
            "east": 88.9617919921875,
            "fullscreen": false,
            "inertia": true,
            "inertia_deceleration": 3000,
            "inertia_max_speed": 1500,
            "interpolation": "bilinear",
            "keyboard": true,
            "keyboard_pan_offset": 80,
            "keyboard_zoom_offset": 1,
            "layers": [
              "IPY_MODEL_1ec3f32af2ca4eaeb68d78310b85907d",
              "IPY_MODEL_b5f58d6525e64780a3e2b83c3b34e565",
              "IPY_MODEL_6cf23d1064214afeb76a8a6eeac14240",
              "IPY_MODEL_b82128b3c0144caba7689e6ff9762b54",
              "IPY_MODEL_8d577d7151a3464396f36865719425fe",
              "IPY_MODEL_41757306fc7f450c9bb3f81f3960f3fb",
              "IPY_MODEL_58c73a5e21614851920a812483ea5da1",
              "IPY_MODEL_c61fbb2d634a48bca6bf4409b6428353",
              "IPY_MODEL_addfce3649124cf687da7c332dc73441",
              "IPY_MODEL_09038e6f47394d8694866ccce5a115d6",
              "IPY_MODEL_3a55d997718f412caf507ecadfdea487",
              "IPY_MODEL_0ddaa575562749d6a19469ecb20a749f",
              "IPY_MODEL_831e8bea60a3481882ab4a4724d92e2b"
            ],
            "layout": "IPY_MODEL_8b336cbdf3b44ffaa1bf8564945c83d9",
            "left": 47169,
            "max_zoom": 24,
            "min_zoom": null,
            "modisdate": "2023-03-27",
            "north": 29.219302076779456,
            "options": [
              "bounce_at_zoom_limits",
              "box_zoom",
              "center",
              "close_popup_on_click",
              "double_click_zoom",
              "dragging",
              "fullscreen",
              "inertia",
              "inertia_deceleration",
              "inertia_max_speed",
              "interpolation",
              "keyboard",
              "keyboard_pan_offset",
              "keyboard_zoom_offset",
              "max_zoom",
              "min_zoom",
              "prefer_canvas",
              "scroll_wheel_zoom",
              "tap",
              "tap_tolerance",
              "touch_zoom",
              "world_copy_jump",
              "zoom",
              "zoom_animation_threshold",
              "zoom_delta",
              "zoom_snap"
            ],
            "panes": {},
            "prefer_canvas": false,
            "right": 48963,
            "scroll_wheel_zoom": true,
            "south": 26.303264239389534,
            "style": "IPY_MODEL_0273886e407e41288e553f4d61b05421",
            "tap": true,
            "tap_tolerance": 15,
            "top": 27202,
            "touch_zoom": true,
            "west": 79.10705566406251,
            "window_url": "https://l4zjknv4j0b-496ff2e9c6d22116-0-colab.googleusercontent.com/outputframe.html?vrz=colab-20230324-060201-RC00_519103375",
            "world_copy_jump": false,
            "zoom": 8,
            "zoom_animation_threshold": 4,
            "zoom_delta": 1,
            "zoom_snap": 1
          }
        },
        "66494ae61df14c269e4ac36213dea625": {
          "model_module": "jupyter-leaflet",
          "model_name": "LeafletWidgetControlModel",
          "model_module_version": "^0.17",
          "state": {
            "_model_module": "jupyter-leaflet",
            "_model_module_version": "^0.17",
            "_model_name": "LeafletWidgetControlModel",
            "_view_count": null,
            "_view_module": "jupyter-leaflet",
            "_view_module_version": "^0.17",
            "_view_name": "LeafletWidgetControlView",
            "max_height": null,
            "max_width": null,
            "min_height": null,
            "min_width": null,
            "options": [
              "position",
              "transparent_bg"
            ],
            "position": "topleft",
            "transparent_bg": false,
            "widget": "IPY_MODEL_401770b7fd52481aa83aba131563f179"
          }
        },
        "914c0b768d9243a2849f954f138441be": {
          "model_module": "jupyter-leaflet",
          "model_name": "LeafletZoomControlModel",
          "model_module_version": "^0.17",
          "state": {
            "_model_module": "jupyter-leaflet",
            "_model_module_version": "^0.17",
            "_model_name": "LeafletZoomControlModel",
            "_view_count": null,
            "_view_module": "jupyter-leaflet",
            "_view_module_version": "^0.17",
            "_view_name": "LeafletZoomControlView",
            "options": [
              "position",
              "zoom_in_text",
              "zoom_in_title",
              "zoom_out_text",
              "zoom_out_title"
            ],
            "position": "topleft",
            "zoom_in_text": "+",
            "zoom_in_title": "Zoom in",
            "zoom_out_text": "-",
            "zoom_out_title": "Zoom out"
          }
        },
        "6f021f9c7aac4a80af4633b5400730a0": {
          "model_module": "jupyter-leaflet",
          "model_name": "LeafletScaleControlModel",
          "model_module_version": "^0.17",
          "state": {
            "_model_module": "jupyter-leaflet",
            "_model_module_version": "^0.17",
            "_model_name": "LeafletScaleControlModel",
            "_view_count": null,
            "_view_module": "jupyter-leaflet",
            "_view_module_version": "^0.17",
            "_view_name": "LeafletScaleControlView",
            "imperial": true,
            "max_width": 100,
            "metric": true,
            "options": [
              "imperial",
              "max_width",
              "metric",
              "position",
              "update_when_idle"
            ],
            "position": "bottomleft",
            "update_when_idle": false
          }
        },
        "75e9e0c87aef42cdbf2c416f7c6b245c": {
          "model_module": "jupyter-leaflet",
          "model_name": "LeafletFullScreenControlModel",
          "model_module_version": "^0.17",
          "state": {
            "_model_module": "jupyter-leaflet",
            "_model_module_version": "^0.17",
            "_model_name": "LeafletFullScreenControlModel",
            "_view_count": null,
            "_view_module": "jupyter-leaflet",
            "_view_module_version": "^0.17",
            "_view_name": "LeafletFullScreenControlView",
            "options": [
              "position"
            ],
            "position": "topleft"
          }
        },
        "4dcab9c655ad496291b9417c74074875": {
          "model_module": "jupyter-leaflet",
          "model_name": "LeafletMeasureControlModel",
          "model_module_version": "^0.17",
          "state": {
            "_custom_units": {},
            "_model_module": "jupyter-leaflet",
            "_model_module_version": "^0.17",
            "_model_name": "LeafletMeasureControlModel",
            "_view_count": null,
            "_view_module": "jupyter-leaflet",
            "_view_module_version": "^0.17",
            "_view_name": "LeafletMeasureControlView",
            "active_color": "orange",
            "capture_z_index": 10000,
            "completed_color": "#C8F2BE",
            "options": [
              "active_color",
              "capture_z_index",
              "completed_color",
              "popup_options",
              "position",
              "primary_area_unit",
              "primary_length_unit",
              "secondary_area_unit",
              "secondary_length_unit"
            ],
            "popup_options": {
              "className": "leaflet-measure-resultpopup",
              "autoPanPadding": [
                10,
                10
              ]
            },
            "position": "bottomleft",
            "primary_area_unit": "acres",
            "primary_length_unit": "kilometers",
            "secondary_area_unit": null,
            "secondary_length_unit": null
          }
        },
        "4c1fa0582db243d0975325789ad2f676": {
          "model_module": "jupyter-leaflet",
          "model_name": "LeafletAttributionControlModel",
          "model_module_version": "^0.17",
          "state": {
            "_model_module": "jupyter-leaflet",
            "_model_module_version": "^0.17",
            "_model_name": "LeafletAttributionControlModel",
            "_view_count": null,
            "_view_module": "jupyter-leaflet",
            "_view_module_version": "^0.17",
            "_view_name": "LeafletAttributionControlView",
            "options": [
              "position",
              "prefix"
            ],
            "position": "bottomright",
            "prefix": "ipyleaflet"
          }
        },
        "61d9edfd039e45248f4991d2bbcb20c7": {
          "model_module": "jupyter-leaflet",
          "model_name": "LeafletDrawControlModel",
          "model_module_version": "^0.17",
          "state": {
            "_model_module": "jupyter-leaflet",
            "_model_module_version": "^0.17",
            "_model_name": "LeafletDrawControlModel",
            "_view_count": null,
            "_view_module": "jupyter-leaflet",
            "_view_module_version": "^0.17",
            "_view_name": "LeafletDrawControlView",
            "circle": {
              "shapeOptions": {
                "color": "#3388ff"
              }
            },
            "circlemarker": {},
            "data": [],
            "edit": true,
            "marker": {
              "shapeOptions": {
                "color": "#3388ff"
              }
            },
            "options": [
              "position"
            ],
            "polygon": {
              "shapeOptions": {}
            },
            "polyline": {
              "shapeOptions": {}
            },
            "position": "topleft",
            "rectangle": {
              "shapeOptions": {
                "color": "#3388ff"
              }
            },
            "remove": true
          }
        },
        "d066bd390e734c6bb5254680bff29866": {
          "model_module": "jupyter-leaflet",
          "model_name": "LeafletWidgetControlModel",
          "model_module_version": "^0.17",
          "state": {
            "_model_module": "jupyter-leaflet",
            "_model_module_version": "^0.17",
            "_model_name": "LeafletWidgetControlModel",
            "_view_count": null,
            "_view_module": "jupyter-leaflet",
            "_view_module_version": "^0.17",
            "_view_name": "LeafletWidgetControlView",
            "max_height": null,
            "max_width": null,
            "min_height": null,
            "min_width": null,
            "options": [
              "position",
              "transparent_bg"
            ],
            "position": "topright",
            "transparent_bg": false,
            "widget": "IPY_MODEL_75eaf80149f3451ea341eef50ad7b913"
          }
        },
        "0273886e407e41288e553f4d61b05421": {
          "model_module": "jupyter-leaflet",
          "model_name": "LeafletMapStyleModel",
          "model_module_version": "^0.17",
          "state": {
            "_model_module": "jupyter-leaflet",
            "_model_module_version": "^0.17",
            "_model_name": "LeafletMapStyleModel",
            "_view_count": null,
            "_view_module": "@jupyter-widgets/base",
            "_view_module_version": "1.2.0",
            "_view_name": "StyleView",
            "cursor": "grab"
          }
        },
        "545d64fa87d34eaf9742685679596116": {
          "model_module": "jupyter-leaflet",
          "model_name": "LeafletMapStyleModel",
          "model_module_version": "^0.17",
          "state": {
            "_model_module": "jupyter-leaflet",
            "_model_module_version": "^0.17",
            "_model_name": "LeafletMapStyleModel",
            "_view_count": null,
            "_view_module": "@jupyter-widgets/base",
            "_view_module_version": "1.2.0",
            "_view_name": "StyleView",
            "cursor": "move"
          }
        },
        "1ec3f32af2ca4eaeb68d78310b85907d": {
          "model_module": "jupyter-leaflet",
          "model_name": "LeafletTileLayerModel",
          "model_module_version": "^0.17",
          "state": {
            "_model_module": "jupyter-leaflet",
            "_model_module_version": "^0.17",
            "_model_name": "LeafletTileLayerModel",
            "_view_count": null,
            "_view_module": "jupyter-leaflet",
            "_view_module_version": "^0.17",
            "_view_name": "LeafletTileLayerView",
            "attribution": "&copy; <a href=\"https://www.openstreetmap.org/copyright\">OpenStreetMap</a> contributors",
            "base": true,
            "bottom": true,
            "bounds": null,
            "detect_retina": false,
            "loading": false,
            "max_native_zoom": null,
            "max_zoom": 19,
            "min_native_zoom": null,
            "min_zoom": 1,
            "name": "OpenStreetMap.Mapnik",
            "no_wrap": false,
            "opacity": 1,
            "options": [
              "attribution",
              "bounds",
              "detect_retina",
              "max_native_zoom",
              "max_zoom",
              "min_native_zoom",
              "min_zoom",
              "no_wrap",
              "tile_size",
              "tms",
              "zoom_offset"
            ],
            "pane": "",
            "popup": null,
            "popup_max_height": null,
            "popup_max_width": 300,
            "popup_min_width": 50,
            "show_loading": false,
            "subitems": [],
            "tile_size": 256,
            "tms": false,
            "url": "https://tile.openstreetmap.org/{z}/{x}/{y}.png",
            "visible": true,
            "zoom_offset": 0
          }
        },
        "b5f58d6525e64780a3e2b83c3b34e565": {
          "model_module": "jupyter-leaflet",
          "model_name": "LeafletTileLayerModel",
          "model_module_version": "^0.17",
          "state": {
            "_model_module": "jupyter-leaflet",
            "_model_module_version": "^0.17",
            "_model_name": "LeafletTileLayerModel",
            "_view_count": null,
            "_view_module": "jupyter-leaflet",
            "_view_module_version": "^0.17",
            "_view_name": "LeafletTileLayerView",
            "attribution": "Google",
            "base": false,
            "bottom": true,
            "bounds": null,
            "detect_retina": false,
            "loading": false,
            "max_native_zoom": null,
            "max_zoom": 22,
            "min_native_zoom": null,
            "min_zoom": 0,
            "name": "Google Maps",
            "no_wrap": false,
            "opacity": 1,
            "options": [
              "attribution",
              "bounds",
              "detect_retina",
              "max_native_zoom",
              "max_zoom",
              "min_native_zoom",
              "min_zoom",
              "no_wrap",
              "tile_size",
              "tms",
              "zoom_offset"
            ],
            "pane": "",
            "popup": null,
            "popup_max_height": null,
            "popup_max_width": 300,
            "popup_min_width": 50,
            "show_loading": false,
            "subitems": [],
            "tile_size": 256,
            "tms": false,
            "url": "https://mt1.google.com/vt/lyrs=m&x={x}&y={y}&z={z}",
            "visible": true,
            "zoom_offset": 0
          }
        },
        "6cf23d1064214afeb76a8a6eeac14240": {
          "model_module": "jupyter-leaflet",
          "model_name": "LeafletTileLayerModel",
          "model_module_version": "^0.17",
          "state": {
            "_model_module": "jupyter-leaflet",
            "_model_module_version": "^0.17",
            "_model_name": "LeafletTileLayerModel",
            "_view_count": null,
            "_view_module": "jupyter-leaflet",
            "_view_module_version": "^0.17",
            "_view_name": "LeafletTileLayerView",
            "attribution": "Google Earth Engine",
            "base": false,
            "bottom": true,
            "bounds": null,
            "detect_retina": false,
            "loading": false,
            "max_native_zoom": null,
            "max_zoom": 24,
            "min_native_zoom": null,
            "min_zoom": 0,
            "name": "India",
            "no_wrap": false,
            "opacity": 1,
            "options": [
              "attribution",
              "bounds",
              "detect_retina",
              "max_native_zoom",
              "max_zoom",
              "min_native_zoom",
              "min_zoom",
              "no_wrap",
              "tile_size",
              "tms",
              "zoom_offset"
            ],
            "pane": "",
            "popup": null,
            "popup_max_height": null,
            "popup_max_width": 300,
            "popup_min_width": 50,
            "show_loading": false,
            "subitems": [],
            "tile_size": 256,
            "tms": false,
            "url": "https://earthengine.googleapis.com/v1alpha/projects/earthengine-legacy/maps/f1f02397a583d5ae423677bc801c3001-de757f3845866994880d1e9193c96b3c/tiles/{z}/{x}/{y}",
            "visible": true,
            "zoom_offset": 0
          }
        },
        "8b336cbdf3b44ffaa1bf8564945c83d9": {
          "model_module": "@jupyter-widgets/base",
          "model_name": "LayoutModel",
          "model_module_version": "1.2.0",
          "state": {
            "_model_module": "@jupyter-widgets/base",
            "_model_module_version": "1.2.0",
            "_model_name": "LayoutModel",
            "_view_count": null,
            "_view_module": "@jupyter-widgets/base",
            "_view_module_version": "1.2.0",
            "_view_name": "LayoutView",
            "align_content": null,
            "align_items": null,
            "align_self": null,
            "border": null,
            "bottom": null,
            "display": null,
            "flex": null,
            "flex_flow": null,
            "grid_area": null,
            "grid_auto_columns": null,
            "grid_auto_flow": null,
            "grid_auto_rows": null,
            "grid_column": null,
            "grid_gap": null,
            "grid_row": null,
            "grid_template_areas": null,
            "grid_template_columns": null,
            "grid_template_rows": null,
            "height": "600px",
            "justify_content": null,
            "justify_items": null,
            "left": null,
            "margin": null,
            "max_height": null,
            "max_width": null,
            "min_height": null,
            "min_width": null,
            "object_fit": null,
            "object_position": null,
            "order": null,
            "overflow": null,
            "overflow_x": null,
            "overflow_y": null,
            "padding": null,
            "right": null,
            "top": null,
            "visibility": null,
            "width": null
          }
        },
        "1a1f783912ea4fe6ad43ef5df8d715f4": {
          "model_module": "jupyter-leaflet",
          "model_name": "LeafletMapStyleModel",
          "model_module_version": "^0.17",
          "state": {
            "_model_module": "jupyter-leaflet",
            "_model_module_version": "^0.17",
            "_model_name": "LeafletMapStyleModel",
            "_view_count": null,
            "_view_module": "@jupyter-widgets/base",
            "_view_module_version": "1.2.0",
            "_view_name": "StyleView",
            "cursor": "grab"
          }
        },
        "401770b7fd52481aa83aba131563f179": {
          "model_module": "@jupyter-widgets/controls",
          "model_name": "HBoxModel",
          "model_module_version": "1.5.0",
          "state": {
            "_dom_classes": [],
            "_model_module": "@jupyter-widgets/controls",
            "_model_module_version": "1.5.0",
            "_model_name": "HBoxModel",
            "_view_count": null,
            "_view_module": "@jupyter-widgets/controls",
            "_view_module_version": "1.5.0",
            "_view_name": "HBoxView",
            "box_style": "",
            "children": [
              "IPY_MODEL_fa332e261f7d43479299fcb1e87ede9e"
            ],
            "layout": "IPY_MODEL_75fc639137bd4babb24a6c0eeae1c3ea"
          }
        },
        "75eaf80149f3451ea341eef50ad7b913": {
          "model_module": "@jupyter-widgets/controls",
          "model_name": "VBoxModel",
          "model_module_version": "1.5.0",
          "state": {
            "_dom_classes": [],
            "_model_module": "@jupyter-widgets/controls",
            "_model_module_version": "1.5.0",
            "_model_name": "VBoxModel",
            "_view_count": null,
            "_view_module": "@jupyter-widgets/controls",
            "_view_module_version": "1.5.0",
            "_view_name": "VBoxView",
            "box_style": "",
            "children": [
              "IPY_MODEL_675f341b65ce4838a869ec0744f78057"
            ],
            "layout": "IPY_MODEL_c54eb329093b4e2ea608bd2be43af245"
          }
        },
        "fa332e261f7d43479299fcb1e87ede9e": {
          "model_module": "@jupyter-widgets/controls",
          "model_name": "ToggleButtonModel",
          "model_module_version": "1.5.0",
          "state": {
            "_dom_classes": [],
            "_model_module": "@jupyter-widgets/controls",
            "_model_module_version": "1.5.0",
            "_model_name": "ToggleButtonModel",
            "_view_count": null,
            "_view_module": "@jupyter-widgets/controls",
            "_view_module_version": "1.5.0",
            "_view_name": "ToggleButtonView",
            "button_style": "",
            "description": "",
            "description_tooltip": null,
            "disabled": false,
            "icon": "globe",
            "layout": "IPY_MODEL_3a069189b2694e0cb2cbd7681060d8ae",
            "style": "IPY_MODEL_255463ead4b948c2a62b7f9d3db97e6a",
            "tooltip": "Search location/data",
            "value": false
          }
        },
        "75fc639137bd4babb24a6c0eeae1c3ea": {
          "model_module": "@jupyter-widgets/base",
          "model_name": "LayoutModel",
          "model_module_version": "1.2.0",
          "state": {
            "_model_module": "@jupyter-widgets/base",
            "_model_module_version": "1.2.0",
            "_model_name": "LayoutModel",
            "_view_count": null,
            "_view_module": "@jupyter-widgets/base",
            "_view_module_version": "1.2.0",
            "_view_name": "LayoutView",
            "align_content": null,
            "align_items": null,
            "align_self": null,
            "border": null,
            "bottom": null,
            "display": null,
            "flex": null,
            "flex_flow": null,
            "grid_area": null,
            "grid_auto_columns": null,
            "grid_auto_flow": null,
            "grid_auto_rows": null,
            "grid_column": null,
            "grid_gap": null,
            "grid_row": null,
            "grid_template_areas": null,
            "grid_template_columns": null,
            "grid_template_rows": null,
            "height": null,
            "justify_content": null,
            "justify_items": null,
            "left": null,
            "margin": null,
            "max_height": null,
            "max_width": null,
            "min_height": null,
            "min_width": null,
            "object_fit": null,
            "object_position": null,
            "order": null,
            "overflow": null,
            "overflow_x": null,
            "overflow_y": null,
            "padding": null,
            "right": null,
            "top": null,
            "visibility": null,
            "width": null
          }
        },
        "675f341b65ce4838a869ec0744f78057": {
          "model_module": "@jupyter-widgets/controls",
          "model_name": "ToggleButtonModel",
          "model_module_version": "1.5.0",
          "state": {
            "_dom_classes": [],
            "_model_module": "@jupyter-widgets/controls",
            "_model_module_version": "1.5.0",
            "_model_name": "ToggleButtonModel",
            "_view_count": null,
            "_view_module": "@jupyter-widgets/controls",
            "_view_module_version": "1.5.0",
            "_view_name": "ToggleButtonView",
            "button_style": "",
            "description": "",
            "description_tooltip": null,
            "disabled": false,
            "icon": "wrench",
            "layout": "IPY_MODEL_355b102155634c1b8128c4bda9e500c8",
            "style": "IPY_MODEL_59ada996de5042ec9c6116f393aec361",
            "tooltip": "Toolbar",
            "value": false
          }
        },
        "c54eb329093b4e2ea608bd2be43af245": {
          "model_module": "@jupyter-widgets/base",
          "model_name": "LayoutModel",
          "model_module_version": "1.2.0",
          "state": {
            "_model_module": "@jupyter-widgets/base",
            "_model_module_version": "1.2.0",
            "_model_name": "LayoutModel",
            "_view_count": null,
            "_view_module": "@jupyter-widgets/base",
            "_view_module_version": "1.2.0",
            "_view_name": "LayoutView",
            "align_content": null,
            "align_items": null,
            "align_self": null,
            "border": null,
            "bottom": null,
            "display": null,
            "flex": null,
            "flex_flow": null,
            "grid_area": null,
            "grid_auto_columns": null,
            "grid_auto_flow": null,
            "grid_auto_rows": null,
            "grid_column": null,
            "grid_gap": null,
            "grid_row": null,
            "grid_template_areas": null,
            "grid_template_columns": null,
            "grid_template_rows": null,
            "height": null,
            "justify_content": null,
            "justify_items": null,
            "left": null,
            "margin": null,
            "max_height": null,
            "max_width": null,
            "min_height": null,
            "min_width": null,
            "object_fit": null,
            "object_position": null,
            "order": null,
            "overflow": null,
            "overflow_x": null,
            "overflow_y": null,
            "padding": null,
            "right": null,
            "top": null,
            "visibility": null,
            "width": null
          }
        },
        "3a069189b2694e0cb2cbd7681060d8ae": {
          "model_module": "@jupyter-widgets/base",
          "model_name": "LayoutModel",
          "model_module_version": "1.2.0",
          "state": {
            "_model_module": "@jupyter-widgets/base",
            "_model_module_version": "1.2.0",
            "_model_name": "LayoutModel",
            "_view_count": null,
            "_view_module": "@jupyter-widgets/base",
            "_view_module_version": "1.2.0",
            "_view_name": "LayoutView",
            "align_content": null,
            "align_items": null,
            "align_self": null,
            "border": null,
            "bottom": null,
            "display": null,
            "flex": null,
            "flex_flow": null,
            "grid_area": null,
            "grid_auto_columns": null,
            "grid_auto_flow": null,
            "grid_auto_rows": null,
            "grid_column": null,
            "grid_gap": null,
            "grid_row": null,
            "grid_template_areas": null,
            "grid_template_columns": null,
            "grid_template_rows": null,
            "height": "28px",
            "justify_content": null,
            "justify_items": null,
            "left": null,
            "margin": null,
            "max_height": null,
            "max_width": null,
            "min_height": null,
            "min_width": null,
            "object_fit": null,
            "object_position": null,
            "order": null,
            "overflow": null,
            "overflow_x": null,
            "overflow_y": null,
            "padding": "0px 0px 0px 4px",
            "right": null,
            "top": null,
            "visibility": null,
            "width": "28px"
          }
        },
        "255463ead4b948c2a62b7f9d3db97e6a": {
          "model_module": "@jupyter-widgets/controls",
          "model_name": "DescriptionStyleModel",
          "model_module_version": "1.5.0",
          "state": {
            "_model_module": "@jupyter-widgets/controls",
            "_model_module_version": "1.5.0",
            "_model_name": "DescriptionStyleModel",
            "_view_count": null,
            "_view_module": "@jupyter-widgets/base",
            "_view_module_version": "1.2.0",
            "_view_name": "StyleView",
            "description_width": ""
          }
        },
        "355b102155634c1b8128c4bda9e500c8": {
          "model_module": "@jupyter-widgets/base",
          "model_name": "LayoutModel",
          "model_module_version": "1.2.0",
          "state": {
            "_model_module": "@jupyter-widgets/base",
            "_model_module_version": "1.2.0",
            "_model_name": "LayoutModel",
            "_view_count": null,
            "_view_module": "@jupyter-widgets/base",
            "_view_module_version": "1.2.0",
            "_view_name": "LayoutView",
            "align_content": null,
            "align_items": null,
            "align_self": null,
            "border": null,
            "bottom": null,
            "display": null,
            "flex": null,
            "flex_flow": null,
            "grid_area": null,
            "grid_auto_columns": null,
            "grid_auto_flow": null,
            "grid_auto_rows": null,
            "grid_column": null,
            "grid_gap": null,
            "grid_row": null,
            "grid_template_areas": null,
            "grid_template_columns": null,
            "grid_template_rows": null,
            "height": "28px",
            "justify_content": null,
            "justify_items": null,
            "left": null,
            "margin": null,
            "max_height": null,
            "max_width": null,
            "min_height": null,
            "min_width": null,
            "object_fit": null,
            "object_position": null,
            "order": null,
            "overflow": null,
            "overflow_x": null,
            "overflow_y": null,
            "padding": "0px 0px 0px 4px",
            "right": null,
            "top": null,
            "visibility": null,
            "width": "28px"
          }
        },
        "59ada996de5042ec9c6116f393aec361": {
          "model_module": "@jupyter-widgets/controls",
          "model_name": "DescriptionStyleModel",
          "model_module_version": "1.5.0",
          "state": {
            "_model_module": "@jupyter-widgets/controls",
            "_model_module_version": "1.5.0",
            "_model_name": "DescriptionStyleModel",
            "_view_count": null,
            "_view_module": "@jupyter-widgets/base",
            "_view_module_version": "1.2.0",
            "_view_name": "StyleView",
            "description_width": ""
          }
        },
        "b82128b3c0144caba7689e6ff9762b54": {
          "model_module": "jupyter-leaflet",
          "model_name": "LeafletTileLayerModel",
          "model_module_version": "^0.17",
          "state": {
            "_model_module": "jupyter-leaflet",
            "_model_module_version": "^0.17",
            "_model_name": "LeafletTileLayerModel",
            "_view_count": null,
            "_view_module": "jupyter-leaflet",
            "_view_module_version": "^0.17",
            "_view_name": "LeafletTileLayerView",
            "attribution": "Google Earth Engine",
            "base": false,
            "bottom": true,
            "bounds": null,
            "detect_retina": false,
            "loading": false,
            "max_native_zoom": null,
            "max_zoom": 24,
            "min_native_zoom": null,
            "min_zoom": 0,
            "name": "Year 2009",
            "no_wrap": false,
            "opacity": 1,
            "options": [
              "attribution",
              "bounds",
              "detect_retina",
              "max_native_zoom",
              "max_zoom",
              "min_native_zoom",
              "min_zoom",
              "no_wrap",
              "tile_size",
              "tms",
              "zoom_offset"
            ],
            "pane": "",
            "popup": null,
            "popup_max_height": null,
            "popup_max_width": 300,
            "popup_min_width": 50,
            "show_loading": false,
            "subitems": [],
            "tile_size": 256,
            "tms": false,
            "url": "https://earthengine.googleapis.com/v1alpha/projects/earthengine-legacy/maps/8cdada99796f8f3f3d403eaa3e0fc812-7826ba4748a22ff9f8ebd51e87e98084/tiles/{z}/{x}/{y}",
            "visible": true,
            "zoom_offset": 0
          }
        },
        "8d577d7151a3464396f36865719425fe": {
          "model_module": "jupyter-leaflet",
          "model_name": "LeafletTileLayerModel",
          "model_module_version": "^0.17",
          "state": {
            "_model_module": "jupyter-leaflet",
            "_model_module_version": "^0.17",
            "_model_name": "LeafletTileLayerModel",
            "_view_count": null,
            "_view_module": "jupyter-leaflet",
            "_view_module_version": "^0.17",
            "_view_name": "LeafletTileLayerView",
            "attribution": "Google Earth Engine",
            "base": false,
            "bottom": true,
            "bounds": null,
            "detect_retina": false,
            "loading": false,
            "max_native_zoom": null,
            "max_zoom": 24,
            "min_native_zoom": null,
            "min_zoom": 0,
            "name": "Year 2010",
            "no_wrap": false,
            "opacity": 1,
            "options": [
              "attribution",
              "bounds",
              "detect_retina",
              "max_native_zoom",
              "max_zoom",
              "min_native_zoom",
              "min_zoom",
              "no_wrap",
              "tile_size",
              "tms",
              "zoom_offset"
            ],
            "pane": "",
            "popup": null,
            "popup_max_height": null,
            "popup_max_width": 300,
            "popup_min_width": 50,
            "show_loading": false,
            "subitems": [],
            "tile_size": 256,
            "tms": false,
            "url": "https://earthengine.googleapis.com/v1alpha/projects/earthengine-legacy/maps/3265e664c8045e73703973320acbea61-aff648f9d04dc6cf18c3c397af583247/tiles/{z}/{x}/{y}",
            "visible": true,
            "zoom_offset": 0
          }
        },
        "41757306fc7f450c9bb3f81f3960f3fb": {
          "model_module": "jupyter-leaflet",
          "model_name": "LeafletTileLayerModel",
          "model_module_version": "^0.17",
          "state": {
            "_model_module": "jupyter-leaflet",
            "_model_module_version": "^0.17",
            "_model_name": "LeafletTileLayerModel",
            "_view_count": null,
            "_view_module": "jupyter-leaflet",
            "_view_module_version": "^0.17",
            "_view_name": "LeafletTileLayerView",
            "attribution": "Google Earth Engine",
            "base": false,
            "bottom": true,
            "bounds": null,
            "detect_retina": false,
            "loading": false,
            "max_native_zoom": null,
            "max_zoom": 24,
            "min_native_zoom": null,
            "min_zoom": 0,
            "name": "Year 2011",
            "no_wrap": false,
            "opacity": 1,
            "options": [
              "attribution",
              "bounds",
              "detect_retina",
              "max_native_zoom",
              "max_zoom",
              "min_native_zoom",
              "min_zoom",
              "no_wrap",
              "tile_size",
              "tms",
              "zoom_offset"
            ],
            "pane": "",
            "popup": null,
            "popup_max_height": null,
            "popup_max_width": 300,
            "popup_min_width": 50,
            "show_loading": false,
            "subitems": [],
            "tile_size": 256,
            "tms": false,
            "url": "https://earthengine.googleapis.com/v1alpha/projects/earthengine-legacy/maps/13301c845a756c01b05c68e30a0fc76a-b4a8bb1fdd7dd225fa51c77977230f18/tiles/{z}/{x}/{y}",
            "visible": true,
            "zoom_offset": 0
          }
        },
        "58c73a5e21614851920a812483ea5da1": {
          "model_module": "jupyter-leaflet",
          "model_name": "LeafletTileLayerModel",
          "model_module_version": "^0.17",
          "state": {
            "_model_module": "jupyter-leaflet",
            "_model_module_version": "^0.17",
            "_model_name": "LeafletTileLayerModel",
            "_view_count": null,
            "_view_module": "jupyter-leaflet",
            "_view_module_version": "^0.17",
            "_view_name": "LeafletTileLayerView",
            "attribution": "Google Earth Engine",
            "base": false,
            "bottom": true,
            "bounds": null,
            "detect_retina": false,
            "loading": false,
            "max_native_zoom": null,
            "max_zoom": 24,
            "min_native_zoom": null,
            "min_zoom": 0,
            "name": "Year 2012",
            "no_wrap": false,
            "opacity": 1,
            "options": [
              "attribution",
              "bounds",
              "detect_retina",
              "max_native_zoom",
              "max_zoom",
              "min_native_zoom",
              "min_zoom",
              "no_wrap",
              "tile_size",
              "tms",
              "zoom_offset"
            ],
            "pane": "",
            "popup": null,
            "popup_max_height": null,
            "popup_max_width": 300,
            "popup_min_width": 50,
            "show_loading": false,
            "subitems": [],
            "tile_size": 256,
            "tms": false,
            "url": "https://earthengine.googleapis.com/v1alpha/projects/earthengine-legacy/maps/546adfe7d983c1cb2d3bd0a8725afa9c-67c47052d5f469e4fdaa630e291e4375/tiles/{z}/{x}/{y}",
            "visible": true,
            "zoom_offset": 0
          }
        },
        "c61fbb2d634a48bca6bf4409b6428353": {
          "model_module": "jupyter-leaflet",
          "model_name": "LeafletTileLayerModel",
          "model_module_version": "^0.17",
          "state": {
            "_model_module": "jupyter-leaflet",
            "_model_module_version": "^0.17",
            "_model_name": "LeafletTileLayerModel",
            "_view_count": null,
            "_view_module": "jupyter-leaflet",
            "_view_module_version": "^0.17",
            "_view_name": "LeafletTileLayerView",
            "attribution": "Google Earth Engine",
            "base": false,
            "bottom": true,
            "bounds": null,
            "detect_retina": false,
            "loading": false,
            "max_native_zoom": null,
            "max_zoom": 24,
            "min_native_zoom": null,
            "min_zoom": 0,
            "name": "Year 2013",
            "no_wrap": false,
            "opacity": 1,
            "options": [
              "attribution",
              "bounds",
              "detect_retina",
              "max_native_zoom",
              "max_zoom",
              "min_native_zoom",
              "min_zoom",
              "no_wrap",
              "tile_size",
              "tms",
              "zoom_offset"
            ],
            "pane": "",
            "popup": null,
            "popup_max_height": null,
            "popup_max_width": 300,
            "popup_min_width": 50,
            "show_loading": false,
            "subitems": [],
            "tile_size": 256,
            "tms": false,
            "url": "https://earthengine.googleapis.com/v1alpha/projects/earthengine-legacy/maps/2c8606caa40de4af7128b6146c2e7e81-86753adb8bb70493e76196048d73a046/tiles/{z}/{x}/{y}",
            "visible": true,
            "zoom_offset": 0
          }
        },
        "addfce3649124cf687da7c332dc73441": {
          "model_module": "jupyter-leaflet",
          "model_name": "LeafletTileLayerModel",
          "model_module_version": "^0.17",
          "state": {
            "_model_module": "jupyter-leaflet",
            "_model_module_version": "^0.17",
            "_model_name": "LeafletTileLayerModel",
            "_view_count": null,
            "_view_module": "jupyter-leaflet",
            "_view_module_version": "^0.17",
            "_view_name": "LeafletTileLayerView",
            "attribution": "Google Earth Engine",
            "base": false,
            "bottom": true,
            "bounds": null,
            "detect_retina": false,
            "loading": false,
            "max_native_zoom": null,
            "max_zoom": 24,
            "min_native_zoom": null,
            "min_zoom": 0,
            "name": "Year 2014",
            "no_wrap": false,
            "opacity": 1,
            "options": [
              "attribution",
              "bounds",
              "detect_retina",
              "max_native_zoom",
              "max_zoom",
              "min_native_zoom",
              "min_zoom",
              "no_wrap",
              "tile_size",
              "tms",
              "zoom_offset"
            ],
            "pane": "",
            "popup": null,
            "popup_max_height": null,
            "popup_max_width": 300,
            "popup_min_width": 50,
            "show_loading": false,
            "subitems": [],
            "tile_size": 256,
            "tms": false,
            "url": "https://earthengine.googleapis.com/v1alpha/projects/earthengine-legacy/maps/4e495107fb3883a2ee51eabc9d0191c3-b78bc7408c88f0617dcf44b9ec94b970/tiles/{z}/{x}/{y}",
            "visible": true,
            "zoom_offset": 0
          }
        },
        "09038e6f47394d8694866ccce5a115d6": {
          "model_module": "jupyter-leaflet",
          "model_name": "LeafletTileLayerModel",
          "model_module_version": "^0.17",
          "state": {
            "_model_module": "jupyter-leaflet",
            "_model_module_version": "^0.17",
            "_model_name": "LeafletTileLayerModel",
            "_view_count": null,
            "_view_module": "jupyter-leaflet",
            "_view_module_version": "^0.17",
            "_view_name": "LeafletTileLayerView",
            "attribution": "Google Earth Engine",
            "base": false,
            "bottom": true,
            "bounds": null,
            "detect_retina": false,
            "loading": false,
            "max_native_zoom": null,
            "max_zoom": 24,
            "min_native_zoom": null,
            "min_zoom": 0,
            "name": "Year 2015",
            "no_wrap": false,
            "opacity": 1,
            "options": [
              "attribution",
              "bounds",
              "detect_retina",
              "max_native_zoom",
              "max_zoom",
              "min_native_zoom",
              "min_zoom",
              "no_wrap",
              "tile_size",
              "tms",
              "zoom_offset"
            ],
            "pane": "",
            "popup": null,
            "popup_max_height": null,
            "popup_max_width": 300,
            "popup_min_width": 50,
            "show_loading": false,
            "subitems": [],
            "tile_size": 256,
            "tms": false,
            "url": "https://earthengine.googleapis.com/v1alpha/projects/earthengine-legacy/maps/bb4cc0d4b8b763e5eafc069f4c4b8d1a-c11e2d61be3e3dac24fd86ef5a877ad7/tiles/{z}/{x}/{y}",
            "visible": true,
            "zoom_offset": 0
          }
        },
        "3a55d997718f412caf507ecadfdea487": {
          "model_module": "jupyter-leaflet",
          "model_name": "LeafletTileLayerModel",
          "model_module_version": "^0.17",
          "state": {
            "_model_module": "jupyter-leaflet",
            "_model_module_version": "^0.17",
            "_model_name": "LeafletTileLayerModel",
            "_view_count": null,
            "_view_module": "jupyter-leaflet",
            "_view_module_version": "^0.17",
            "_view_name": "LeafletTileLayerView",
            "attribution": "Google Earth Engine",
            "base": false,
            "bottom": true,
            "bounds": null,
            "detect_retina": false,
            "loading": false,
            "max_native_zoom": null,
            "max_zoom": 24,
            "min_native_zoom": null,
            "min_zoom": 0,
            "name": "Year 2016",
            "no_wrap": false,
            "opacity": 1,
            "options": [
              "attribution",
              "bounds",
              "detect_retina",
              "max_native_zoom",
              "max_zoom",
              "min_native_zoom",
              "min_zoom",
              "no_wrap",
              "tile_size",
              "tms",
              "zoom_offset"
            ],
            "pane": "",
            "popup": null,
            "popup_max_height": null,
            "popup_max_width": 300,
            "popup_min_width": 50,
            "show_loading": false,
            "subitems": [],
            "tile_size": 256,
            "tms": false,
            "url": "https://earthengine.googleapis.com/v1alpha/projects/earthengine-legacy/maps/aefe36f9b82b2047e66133c38dd70a95-220cf9fb51155ea70f496c2504a0651e/tiles/{z}/{x}/{y}",
            "visible": true,
            "zoom_offset": 0
          }
        },
        "0ddaa575562749d6a19469ecb20a749f": {
          "model_module": "jupyter-leaflet",
          "model_name": "LeafletTileLayerModel",
          "model_module_version": "^0.17",
          "state": {
            "_model_module": "jupyter-leaflet",
            "_model_module_version": "^0.17",
            "_model_name": "LeafletTileLayerModel",
            "_view_count": null,
            "_view_module": "jupyter-leaflet",
            "_view_module_version": "^0.17",
            "_view_name": "LeafletTileLayerView",
            "attribution": "Google Earth Engine",
            "base": false,
            "bottom": true,
            "bounds": null,
            "detect_retina": false,
            "loading": false,
            "max_native_zoom": null,
            "max_zoom": 24,
            "min_native_zoom": null,
            "min_zoom": 0,
            "name": "Year 2017",
            "no_wrap": false,
            "opacity": 1,
            "options": [
              "attribution",
              "bounds",
              "detect_retina",
              "max_native_zoom",
              "max_zoom",
              "min_native_zoom",
              "min_zoom",
              "no_wrap",
              "tile_size",
              "tms",
              "zoom_offset"
            ],
            "pane": "",
            "popup": null,
            "popup_max_height": null,
            "popup_max_width": 300,
            "popup_min_width": 50,
            "show_loading": false,
            "subitems": [],
            "tile_size": 256,
            "tms": false,
            "url": "https://earthengine.googleapis.com/v1alpha/projects/earthengine-legacy/maps/3aec42aafe91c7d6f2236b319452e2eb-d4a3415b3d2f1c3ee24d3c99e6cfdc7a/tiles/{z}/{x}/{y}",
            "visible": true,
            "zoom_offset": 0
          }
        },
        "831e8bea60a3481882ab4a4724d92e2b": {
          "model_module": "jupyter-leaflet",
          "model_name": "LeafletTileLayerModel",
          "model_module_version": "^0.17",
          "state": {
            "_model_module": "jupyter-leaflet",
            "_model_module_version": "^0.17",
            "_model_name": "LeafletTileLayerModel",
            "_view_count": null,
            "_view_module": "jupyter-leaflet",
            "_view_module_version": "^0.17",
            "_view_name": "LeafletTileLayerView",
            "attribution": "Google Earth Engine",
            "base": false,
            "bottom": true,
            "bounds": null,
            "detect_retina": false,
            "loading": false,
            "max_native_zoom": null,
            "max_zoom": 24,
            "min_native_zoom": null,
            "min_zoom": 0,
            "name": "Year 2018",
            "no_wrap": false,
            "opacity": 1,
            "options": [
              "attribution",
              "bounds",
              "detect_retina",
              "max_native_zoom",
              "max_zoom",
              "min_native_zoom",
              "min_zoom",
              "no_wrap",
              "tile_size",
              "tms",
              "zoom_offset"
            ],
            "pane": "",
            "popup": null,
            "popup_max_height": null,
            "popup_max_width": 300,
            "popup_min_width": 50,
            "show_loading": false,
            "subitems": [],
            "tile_size": 256,
            "tms": false,
            "url": "https://earthengine.googleapis.com/v1alpha/projects/earthengine-legacy/maps/831aa822e24d95c25f1f02f0553a0f3f-d2f054dce8dae44f45e9adb02a1a1730/tiles/{z}/{x}/{y}",
            "visible": true,
            "zoom_offset": 0
          }
        }
      }
    }
  },
  "nbformat": 4,
  "nbformat_minor": 5
}